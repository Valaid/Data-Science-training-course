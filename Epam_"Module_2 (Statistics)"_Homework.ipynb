{
  "nbformat": 4,
  "nbformat_minor": 0,
  "metadata": {
    "kernelspec": {
      "display_name": "Python 3",
      "language": "python",
      "name": "python3"
    },
    "language_info": {
      "codemirror_mode": {
        "name": "ipython",
        "version": 3
      },
      "file_extension": ".py",
      "mimetype": "text/x-python",
      "name": "python",
      "nbconvert_exporter": "python",
      "pygments_lexer": "ipython3",
      "version": "3.7.6-final"
    },
    "toc": {
      "base_numbering": 1,
      "nav_menu": {},
      "number_sections": true,
      "sideBar": true,
      "skip_h1_title": false,
      "title_cell": "Table of Contents",
      "title_sidebar": "Contents",
      "toc_cell": false,
      "toc_position": {},
      "toc_section_display": true,
      "toc_window_display": false
    },
    "colab": {
      "name": "Epam \"Module 2\" Homework",
      "provenance": [],
      "collapsed_sections": []
    }
  },
  "cells": [
    {
      "cell_type": "markdown",
      "metadata": {
        "id": "Sr8byGjLDSAM"
      },
      "source": [
        "# Homework for statistics module"
      ]
    },
    {
      "cell_type": "code",
      "metadata": {
        "id": "sX1dCqTiq1Wr",
        "colab": {
          "base_uri": "https://localhost:8080/",
          "height": 85
        },
        "outputId": "30c205e5-34ce-4c30-923e-570143f93dce"
      },
      "source": [
        "!pip install bds_courseware"
      ],
      "execution_count": null,
      "outputs": [
        {
          "output_type": "stream",
          "text": [
            "Collecting bds_courseware\n",
            "  Downloading https://files.pythonhosted.org/packages/07/7c/8d30b3c67717210f6d5cb2dfc0b11f896b166db72ff2f23fa4ea33f97770/bds_courseware-1.0.1-py3-none-any.whl\n",
            "Installing collected packages: bds-courseware\n",
            "Successfully installed bds-courseware-1.0.1\n"
          ],
          "name": "stdout"
        }
      ]
    },
    {
      "cell_type": "code",
      "metadata": {
        "id": "6lsqMZhxqszJ"
      },
      "source": [
        "from bds_courseware import get_dataset"
      ],
      "execution_count": null,
      "outputs": []
    },
    {
      "cell_type": "code",
      "metadata": {
        "id": "rD6aWKGoDSAO"
      },
      "source": [
        "import pandas as pd\n",
        "import numpy as np\n",
        "import scipy.stats as st\n",
        "\n",
        "import matplotlib.pyplot as plt\n",
        "%matplotlib inline\n",
        "import random\n",
        "import seaborn as sns\n",
        "\n",
        "# <<<All the imports here>>>"
      ],
      "execution_count": null,
      "outputs": []
    },
    {
      "cell_type": "markdown",
      "metadata": {
        "id": "OLbYtBCODSAQ"
      },
      "source": [
        "# Task 1\n",
        "\n",
        "## Stratification\n",
        "\n",
        "The example:\n",
        "\n",
        "Let's assume, we need to estimate a mean votes count for every election candidate. Suppose there are 3 cities in a country: 1 million factory workers live in city A, 2 million office workers live in city B, and 3 million senior citizens live in city B. We can choose a random sample of 60 votes from the entire population, but there is some chance that the random sample will be poorly balanced between these cities and, therefore, will be biased and of little use (\"average temperature in the hospital\"), causing a significant error in the estimation. Instead, if we choose to use a simple random sample of 10, 20 and 30 votes from cities A, B and C, respectively, we can get a smaller error in the estimate with the same total sample size. This technique is called stratification.\n",
        "\n",
        "\n",
        "### The task\n",
        "\n",
        "Suppose the population is a mixture of 3 normally distributed CBs. In other words, the population can be divided into 3 strata.\n",
        "$$\n",
        "    F(X) = a_1 F(X_1) + a_2 F(X_2) + a_3 F(X_3)\n",
        "$$\n",
        "\n",
        "**Goals:**  \n",
        "\n",
        "1. Derive (for example, in the block below, using Markdown) the formulas for point estimates of the mathematical expectation and variance for the average value of subsamples formed in different ways:\n",
        "- random selection from the entire population;\n",
        "- random selection of strata in proportion to shares;\n",
        "- random selection according to the optimal sub-sampling.\n",
        "\n",
        "2. Calculate point estimates of the mathematical expectation and variance for the average value for each data sampling method from p.1, provided:\n",
        "* Experiments should be conducted for 3 cases (for every method from p.1 each):\n",
        "     * all strata have the same mat. expectations and variance;\n",
        "     * strata have different mat. expectations, but the same variance;\n",
        "     * strata have different mat. expectations and variance.\n",
        "* Repeat this for these sample sizes: 40 and 500;\n",
        "* Also a single experiment is repeated 1000 times;\n",
        "\n",
        "Thus, total number of experiments will be equal to 18 (3 methods of sampling \\* 3 cases of distribution parameters \\* 2 sample sizes).  \n",
        "\n",
        "**Example**: you conduct an experiment for random sample method with equal ME and variance of stata. For each strata you sample the data with size equal to 40 and estimate the statistics 1000 times. Thus, now you can average the results or plot boxplots (we suggest you do this) to compare the point estimations for each strata. Then you repeat this for sample size equal to 500. And then you can conduct the same pipeline for different sampling methods.  \n",
        "\n",
        "Define the parameters of normal distributions, fractions and size of the subsample yourself.\n",
        "To facilitate the structuring of the code, you can draw up your solution using the specified class:"
      ]
    },
    {
      "cell_type": "markdown",
      "metadata": {
        "id": "yZztrtyRO9VP"
      },
      "source": [
        "\n",
        "\n",
        "Point estimate of the mathematical expectation for the average value of subsample formed in random selection from the entire population: $$E\\overline{X}_{sep} = 1/n_{sep} * \\sum_{i=1}^{n_{sep}} EX_{mix} = 1/n_{sep} * \\sum_{i=1}^{n_{sep}} X_i   $$\n",
        "\n",
        "Point estimate of the mathematical expectation for the average value of subsample formed in random selection of strata in proportion to shares: $$E\\overline{X}_{sprop} = W_1E\\overline{X}_1 + W_2E\\overline{X}_2 + W_3E\\overline{X}_3 = \\sum_{i=1}^{3} W_i\\mu_{i} $$\n",
        "\n",
        "Point estimate of the mathematical expectation for the average value of subsample formed in random selection according to the optimal sub-sampling: $$E\\overline{X}_{sopt} = \\frac{1}{\\sum_{i=1}^3 W_i\\sigma_i}(W_1\\sigma_1E\\overline{X}_1 + W_2\\sigma_2E\\overline{X}_2+ W_3\\sigma_3E\\overline{X}_3) = \\frac{1}{\\sum_{i=1}^3 W_i\\sigma_i}\\sum_{i=1}^{3} W_i\\sigma_i\\mu_{i}$$\n",
        "\n",
        "Point estimate of the varience for the average value of subsample formed in random selection from the entire population: $$D\\overline{X}_{sep} = 1/n_{sep}^2 * \\sum_{i=1}^{n_{sep}} DX_{i} = \\sigma^2/n_{sep}^2     $$\n",
        "\n",
        "Point estimate of the varience for the average value of subsample formed in random selection of strata in proportion to shares: $$D\\overline{X}_{sprop} = (W_1^2D\\overline{X}_1 + W_2^2D\\overline{X}_2 + W_3^2D\\overline{X}_3) = \\sum_{i=1}^{3}W_i^2\\sigma_i^2/n_i^2 $$\n",
        "\n",
        "Point estimate of the varience for the average value of subsample formed in random selection of strata in proportion to shares: $$D\\overline{X}_{opt} = (1/({\\sum_{i=1}^3 W_i\\sigma_i})^2)((W_1\\sigma_1)^2D\\overline{X}_1 + (W_2\\sigma_2)^2D\\overline{X}_2 + (W_3\\sigma_3)^2D\\overline{X}_3) = \\frac{1}{\\sum_{i=1}^3 (W_i\\sigma_i)^2}\\sum_{i=1}^{3}W_i^2\\sigma_i^4/n_i^2  $$"
      ]
    },
    {
      "cell_type": "code",
      "metadata": {
        "id": "68p44IFRDSAR"
      },
      "source": [
        "class Experiment:\n",
        "\n",
        "    def __init__(self, means, stds, random_state=1):\n",
        "        \"\"\"Initializes our experiment and saves the given distributions\n",
        "        \n",
        "        :param means: List of expectations for normal distributions\n",
        "        :param stds: List of standard deviations for normal distributions\n",
        "        :param random_state: Parameter fixing randomness. Needed so that when conducting\n",
        "        experiment repeatedly with the same input parameters, the results remained the same\n",
        "        \"\"\"\n",
        "        self.strats = [st.norm(mean, std) for mean, std in zip(means, stds)]\n",
        "        self.stds = stds\n",
        "        self.means = means\n",
        "    \n",
        "    def sample(self, sizes):\n",
        "        \"\"\"Creates a population sample\n",
        "        \n",
        "        :param sizes: List with sample sizes of the corresponding normal distributions\n",
        "        \"\"\"\n",
        "        self.strats_samples = [rv.rvs(size) for rv, size in zip(self.strats, \n",
        "                                                                sizes)]\n",
        "        self.general_samples = np.hstack(self.strats_samples)\n",
        "        self.N = self.general_samples.shape[0]\n",
        "        #Расчет весов страт\n",
        "        self.weights_strats = [len(strata_sample)/len(self.general_samples) for \n",
        "                               strata_sample in self.strats_samples]\n",
        "        self.m = np.mean(self.general_samples)\n",
        "        self.sigma = np.std(self.general_samples)\n",
        "        \n",
        "    def random_subsampling(self, size):\n",
        "        \"\"\"Creates a random subset of the entire population\n",
        "        \n",
        "        :param sizes: subsample size\n",
        "        \"\"\"\n",
        "        return np.random.choice(self.general_samples, size)\n",
        "        \n",
        "    def proportional_subsampling(self, size):\n",
        "        \"\"\"Creates a subsample with the number of elements, proportional shares of strata\n",
        "        \n",
        "        :param sizes: subsample size\n",
        "        \"\"\"\n",
        "        volumes = [int(size*self.weights_strats[i]) for i in \n",
        "                   range(len(self.strats))]\n",
        "        samples_ids = [np.random.choice(len(self.strats_samples[i]), \n",
        "                                        volumes[i]) for i in \n",
        "                       range(len(self.strats))]\n",
        "        samples = [self.strats_samples[i][samples_ids[i]] for i in \n",
        "                   range(len(samples_ids))]\n",
        "        if sum(volumes) < size:\n",
        "          delta = size - sum(volumes)\n",
        "          strats_samples_new = self.strats_samples.copy()\n",
        "          for i in range(delta):\n",
        "            k = np.random.choice(len(self.strats), p=self.weights_strats)\n",
        "            samples[k] = np.append(samples[k], \n",
        "                                   self.strats_samples[k]\n",
        "                                   [np.random.randint\n",
        "                                    (len(self.strats_samples[k]))])\n",
        "            volumes[k]+=1\n",
        "        self.strats_prop_sizes=volumes\n",
        "        return samples\n",
        "    \n",
        "    def optimal_subsampling(self, size):\n",
        "        \"\"\"Creates a subsample with the optimal number of elements relative to strata\n",
        "        \n",
        "        :param sizes: subsample size\n",
        "        \"\"\"\n",
        "        denom = sum(np.array(self.weights_strats) * \n",
        "                    np.array([std for std in self.stds]))\n",
        "        volumes = [int(size*self.weights_strats[i]*self.stds[i]/denom) for i in \n",
        "                   range(len(self.strats))]\n",
        "        samples_ids = [np.random.choice(len(self.strats_samples[i]),\n",
        "                                        volumes[i]) for i in \n",
        "                       range(len(self.strats))]\n",
        "        samples = [self.strats_samples[i][samples_ids[i]] for \n",
        "                   i in range(len(samples_ids))]\n",
        "        if sum(volumes) < size:\n",
        "          delta = size - sum(volumes)\n",
        "          strats_samples_new = self.strats_samples.copy()\n",
        "          for i in range(delta):\n",
        "            k = np.random.choice(len(self.strats), \n",
        "                                 p=np.array(self.weights_strats) * \n",
        "                                 np.array(self.stds)/denom)\n",
        "            samples[k] = np.append(samples[k], \n",
        "                                   self.strats_samples[k]\n",
        "                                   [np.random.randint\n",
        "                                    (len(self.strats_samples[k]))])\n",
        "            volumes[k]+=1\n",
        "        self.strats_opt_sizes=volumes\n",
        "        return samples\n",
        "        \n",
        "    def run_experiments(self, subsampling_method, n_experiments=1000, size=40):\n",
        "        \"\"\"Conducts a series of experiments and saves the results\n",
        "        \n",
        "        :param subsampling_method: method for creating a subsample\n",
        "        :param n_experiments: number of experiment starts\n",
        "        \"\"\"\n",
        "        if subsampling_method not in ['random_subsampling', 'proportional_subsampling', 'optimal_subsampling']:\n",
        "          print('Такого метода нет')\n",
        "          return null\n",
        "        else:\n",
        "          mat_exps, variences = [], []\n",
        "          if subsampling_method=='random_subsampling':\n",
        "            for k in range(n_experiments):\n",
        "              sample = self.random_subsampling(size)\n",
        "              mat_exps.append(np.mean(sample))\n",
        "            return mat_exps\n",
        "\n",
        "          else:\n",
        "            for k in range(n_experiments):\n",
        "              if subsampling_method=='proportional_subsampling':\n",
        "                sample = self.proportional_subsampling(size)\n",
        "              elif subsampling_method=='optimal_subsampling':   \n",
        "                sample = self.optimal_subsampling(size)   \n",
        "              sample = np.hstack(sample)\n",
        "              mat_exps.append(np.mean(sample))\n",
        "            return mat_exps"
      ],
      "execution_count": null,
      "outputs": []
    },
    {
      "cell_type": "code",
      "metadata": {
        "id": "ld5QdD0On6Zc"
      },
      "source": [
        "def show_results(experiment,n):\n",
        "  means_r = experiment.run_experiments('random_subsampling')\n",
        "  means_p = experiment.run_experiments('proportional_subsampling')\n",
        "  means_o = experiment.run_experiments('optimal_subsampling')\n",
        "  data_box_me = pd.DataFrame([means_r, means_p, means_o]).T\n",
        "  data_box_me = data_box_me.rename(columns={0:'random_subsampling',\n",
        "                                            1:'proportional_subsampling',\n",
        "                                            2:'optimal_subsampling'})\n",
        "  # data_box_var = pd.DataFrame([variences_r, variences_p, variences_o]).T\n",
        "  # data_box_var = data_box_var.rename(columns={0:'random_subsampling',\n",
        "  #                                             1:'proportional_subsampling',\n",
        "  #                                             2:'optimal_subsampling'})\n",
        "  fig = plt.figure()\n",
        "  fig.suptitle('Means for the average value for case all strata have the same mat. expectations and variance, size={}'.format(n), fontsize=16)\n",
        "  ax1 = fig.add_axes([0, -0.2, 1, 1])\n",
        "  # ax2 = fig.add_axes([1.25, -0.2, 1, 1])\n",
        "  sns.boxplot(data=data_box_me, orient='v', ax=ax1).set_title('Mat. expectation')\n",
        "  # sns.boxplot(data=data_box_var, orient='v', ax=ax2).set_title('Variences')\n",
        "  fig.show()\n",
        "\n",
        "  print('Sample mean pointwise estimation')\n",
        "  print('\\nRandom sampling from GP:')\n",
        "  print(str.format('\\tTheoretical ME: {}', experiment.m))\n",
        "  print(str.format('\\tEmpirical ME: {}', np.mean(means_r)))\n",
        "  print(str.format('\\n\\tTheoretical Dispersion: {0:.3f}', (experiment.sigma**2)/n))\n",
        "  print(str.format('\\tEmpirical Dispersion: {0:.3f}', np.var(means_r)))\n",
        "\n",
        "  disp_prop = sum([(w**2)*((sigma**2)/n_k**2)\n",
        "                       for n_k, w, sigma\n",
        "                       in zip(experiment.strats_prop_sizes, experiment.weights_strats, experiment.stds)])\n",
        "  print('\\nProportional sampling from GP:')\n",
        "  print(str.format('\\tTheoretical ME: {}', np.dot(experiment.weights_strats,experiment.means)))\n",
        "  print(str.format('\\tEmpirical ME: {}', np.mean(means_p)))\n",
        "  print(str.format('\\n\\tTheoretical Dispersion: {0:.3f}', (disp_prop)))\n",
        "  print(str.format('\\tEmpirical Dispersion: {0:.3f}', np.var(means_r)))\n",
        "\n",
        "  mean_opt = sum([(w*sigma*mu) for w, sigma, mu in zip(experiment.weights_strats,experiment.stds,experiment.means)])\n",
        "  disp_opt = sum([(w**2)*((sigma**4)/n_k**2)/np.dot(experiment.weights_strats,experiment.stds)\n",
        "                       for n_k, w, sigma\n",
        "                       in zip(experiment.strats_opt_sizes, experiment.weights_strats, experiment.stds)])\n",
        "  print('\\nProportional sampling from GP:')\n",
        "  print(str.format('\\tTheoretical ME: {}', mean_opt))\n",
        "  print(str.format('\\tEmpirical ME: {}', np.mean(means_o)))\n",
        "  print(str.format('\\n\\tTheoretical Dispersion: {0:.3f}', (disp_opt)))\n",
        "  print(str.format('\\tEmpirical Dispersion: {0:.3f}', np.var(means_o)))"
      ],
      "execution_count": null,
      "outputs": []
    },
    {
      "cell_type": "code",
      "metadata": {
        "id": "rgP3PM9EDSAT",
        "colab": {
          "base_uri": "https://localhost:8080/",
          "height": 264
        },
        "outputId": "616b52f7-651c-412c-d712-0bfc98dd3618"
      },
      "source": [
        "experiment = Experiment([0, 0, 0], [1, 1, 1])\n",
        "experiment.sample([20, 5, 15])\n",
        "plt.hist(experiment.general_samples);"
      ],
      "execution_count": null,
      "outputs": [
        {
          "output_type": "display_data",
          "data": {
            "image/png": "[encoded data removed]",
            "text/plain": [
              "<Figure size 432x288 with 1 Axes>"
            ]
          },
          "metadata": {
            "tags": [],
            "needs_background": "light"
          }
        }
      ]
    },
    {
      "cell_type": "markdown",
      "metadata": {
        "id": "lAraC9bmx2_p"
      },
      "source": [
        "### Element number for general population = 40, mat_exp and disp are equal between all strata:"
      ]
    },
    {
      "cell_type": "code",
      "metadata": {
        "id": "Zlx02BZUv3EG",
        "colab": {
          "base_uri": "https://localhost:8080/",
          "height": 764
        },
        "outputId": "4f9f4503-687d-40f8-f8e7-3b189fb1bdfe"
      },
      "source": [
        "experiment = Experiment([0, 0, 0], [1, 1, 1])\n",
        "experiment.sample([20, 5, 15])\n",
        "show_results(experiment,40)"
      ],
      "execution_count": null,
      "outputs": [
        {
          "output_type": "stream",
          "text": [
            "Sample mean pointwise estimation\n",
            "\n",
            "Random sampling from GP:\n",
            "\tTheoretical ME: -0.09439260256788193\n",
            "\tEmpirical ME: -0.08901783314190849\n",
            "\n",
            "\tTheoretical Dispersion: 0.015\n",
            "\tEmpirical Dispersion: 0.015\n",
            "\n",
            "Proportional sampling from GP:\n",
            "\tTheoretical ME: 0.0\n",
            "\tEmpirical ME: -0.09927114345428456\n",
            "\n",
            "\tTheoretical Dispersion: 0.002\n",
            "\tEmpirical Dispersion: 0.015\n",
            "\n",
            "Proportional sampling from GP:\n",
            "\tTheoretical ME: 0.0\n",
            "\tEmpirical ME: -0.09496469171212285\n",
            "\n",
            "\tTheoretical Dispersion: 0.002\n",
            "\tEmpirical Dispersion: 0.014\n"
          ],
          "name": "stdout"
        },
        {
          "output_type": "display_data",
          "data": {
            "image/png": "[encoded data removed]",
            "text/plain": [
              "<Figure size 432x288 with 1 Axes>"
            ]
          },
          "metadata": {
            "tags": [],
            "needs_background": "light"
          }
        }
      ]
    },
    {
      "cell_type": "markdown",
      "metadata": {
        "id": "Xok94ZRjyEba"
      },
      "source": [
        "###Element number for general population = 500, mat_exp and disp are equal between all strata:"
      ]
    },
    {
      "cell_type": "code",
      "metadata": {
        "id": "gEv45WwnxQmH",
        "colab": {
          "base_uri": "https://localhost:8080/",
          "height": 764
        },
        "outputId": "24c8c16f-2ced-4a6e-9ef6-e11524bfca45"
      },
      "source": [
        "show_results(experiment,500)"
      ],
      "execution_count": null,
      "outputs": [
        {
          "output_type": "stream",
          "text": [
            "Sample mean pointwise estimation\n",
            "\n",
            "Random sampling from GP:\n",
            "\tTheoretical ME: -0.09439260256788193\n",
            "\tEmpirical ME: -0.10155042724147638\n",
            "\n",
            "\tTheoretical Dispersion: 0.001\n",
            "\tEmpirical Dispersion: 0.016\n",
            "\n",
            "Proportional sampling from GP:\n",
            "\tTheoretical ME: 0.0\n",
            "\tEmpirical ME: -0.0974856824436016\n",
            "\n",
            "\tTheoretical Dispersion: 0.002\n",
            "\tEmpirical Dispersion: 0.016\n",
            "\n",
            "Proportional sampling from GP:\n",
            "\tTheoretical ME: 0.0\n",
            "\tEmpirical ME: -0.09607582521722728\n",
            "\n",
            "\tTheoretical Dispersion: 0.002\n",
            "\tEmpirical Dispersion: 0.014\n"
          ],
          "name": "stdout"
        },
        {
          "output_type": "display_data",
          "data": {
            "image/png": "[encoded data removed]",
            "text/plain": [
              "<Figure size 432x288 with 1 Axes>"
            ]
          },
          "metadata": {
            "tags": [],
            "needs_background": "light"
          }
        }
      ]
    },
    {
      "cell_type": "markdown",
      "metadata": {
        "id": "nWGwlXdyZGNv"
      },
      "source": [
        "По результатам проведенных экпериментов можно заметить, что оценки для трех методов семлирования получились схожими. По ящикам с усами видно что немного лучший IQR показал метод оптимального семплирования в случае 40 элементов, в случае 500 - пропорциональго, но выбросов меньше дал метод оптимального сэмплирования. Также можно сказать что оценка дисперсии на 500 экспериментах зачастую хуже чем аналогичные оценки для других методов."
      ]
    },
    {
      "cell_type": "markdown",
      "metadata": {
        "id": "ynXhQ5Eyym8s"
      },
      "source": [
        "###Element number for general population = 40, mat_exp are different, disp are equal between all strata:"
      ]
    },
    {
      "cell_type": "code",
      "metadata": {
        "id": "GlKwaFDuA6OO",
        "colab": {
          "base_uri": "https://localhost:8080/",
          "height": 764
        },
        "outputId": "b8812462-1249-4369-fd2d-5ed396d7e3df"
      },
      "source": [
        "experiment = Experiment([1, 3, 6], [1, 1, 1])\n",
        "experiment.sample([20, 5, 15])\n",
        "show_results(experiment,40)"
      ],
      "execution_count": null,
      "outputs": [
        {
          "output_type": "stream",
          "text": [
            "Sample mean pointwise estimation\n",
            "\n",
            "Random sampling from GP:\n",
            "\tTheoretical ME: 3.037180369161547\n",
            "\tEmpirical ME: 3.08443162993002\n",
            "\n",
            "\tTheoretical Dispersion: 0.208\n",
            "\tEmpirical Dispersion: 0.213\n",
            "\n",
            "Proportional sampling from GP:\n",
            "\tTheoretical ME: 3.125\n",
            "\tEmpirical ME: 3.0408229383579557\n",
            "\n",
            "\tTheoretical Dispersion: 0.002\n",
            "\tEmpirical Dispersion: 0.213\n",
            "\n",
            "Proportional sampling from GP:\n",
            "\tTheoretical ME: 3.125\n",
            "\tEmpirical ME: 3.0299895995661563\n",
            "\n",
            "\tTheoretical Dispersion: 0.002\n",
            "\tEmpirical Dispersion: 0.029\n"
          ],
          "name": "stdout"
        },
        {
          "output_type": "display_data",
          "data": {
            "image/png": "[encoded data removed]",
            "text/plain": [
              "<Figure size 432x288 with 1 Axes>"
            ]
          },
          "metadata": {
            "tags": [],
            "needs_background": "light"
          }
        }
      ]
    },
    {
      "cell_type": "markdown",
      "metadata": {
        "id": "XdiAEhcJyy9i"
      },
      "source": [
        "###Element number for general population = 500, mat_exp are different, disp are equal between all strata:"
      ]
    },
    {
      "cell_type": "code",
      "metadata": {
        "id": "GbiecdStA6OR",
        "colab": {
          "base_uri": "https://localhost:8080/",
          "height": 764
        },
        "outputId": "5a21afac-1f29-489d-b9a7-57b17cf2a192"
      },
      "source": [
        "experiment = Experiment([1, 3, 6], [1, 1, 1])\n",
        "experiment.sample([20, 5, 15])\n",
        "show_results(experiment,500)"
      ],
      "execution_count": null,
      "outputs": [
        {
          "output_type": "stream",
          "text": [
            "Sample mean pointwise estimation\n",
            "\n",
            "Random sampling from GP:\n",
            "\tTheoretical ME: 3.1119119852637214\n",
            "\tEmpirical ME: 3.117536948506581\n",
            "\n",
            "\tTheoretical Dispersion: 0.011\n",
            "\tEmpirical Dispersion: 0.141\n",
            "\n",
            "Proportional sampling from GP:\n",
            "\tTheoretical ME: 3.125\n",
            "\tEmpirical ME: 3.1056576681385013\n",
            "\n",
            "\tTheoretical Dispersion: 0.002\n",
            "\tEmpirical Dispersion: 0.141\n",
            "\n",
            "Proportional sampling from GP:\n",
            "\tTheoretical ME: 3.125\n",
            "\tEmpirical ME: 3.109690687683484\n",
            "\n",
            "\tTheoretical Dispersion: 0.002\n",
            "\tEmpirical Dispersion: 0.019\n"
          ],
          "name": "stdout"
        },
        {
          "output_type": "display_data",
          "data": {
            "image/png": "[encoded data removed]",
            "text/plain": [
              "<Figure size 432x288 with 1 Axes>"
            ]
          },
          "metadata": {
            "tags": [],
            "needs_background": "light"
          }
        }
      ]
    },
    {
      "cell_type": "markdown",
      "metadata": {
        "id": "q-UKVSDCYpvk"
      },
      "source": [
        "Результаты экспериментов для случая разных матожиданий и одинаковых дисперсий следующие:\n",
        "1. Оценка матожиданий среднего имеет меньший разброс для пропорционального метода, чуть хуже для оптимальногональго. \n",
        "2. Оценки для рандомизированного метода имеют ощутимо больший разброс."
      ]
    },
    {
      "cell_type": "markdown",
      "metadata": {
        "id": "Za3vxYHqzLSn"
      },
      "source": [
        "###Element number for general population = 40, mat_exp and disp are different between all strata:"
      ]
    },
    {
      "cell_type": "code",
      "metadata": {
        "id": "55oGdyz5BJxd",
        "colab": {
          "base_uri": "https://localhost:8080/",
          "height": 764
        },
        "outputId": "91ff88e1-b493-425c-c243-15b8ae4d7fc0"
      },
      "source": [
        "experiment = Experiment([1, 3, 6], [0.5, 1, 3])\n",
        "experiment.sample([20, 5, 15])\n",
        "show_results(experiment,40)"
      ],
      "execution_count": null,
      "outputs": [
        {
          "output_type": "stream",
          "text": [
            "Sample mean pointwise estimation\n",
            "\n",
            "Random sampling from GP:\n",
            "\tTheoretical ME: 3.3866260844197327\n",
            "\tEmpirical ME: 3.413962627806226\n",
            "\n",
            "\tTheoretical Dispersion: 0.261\n",
            "\tEmpirical Dispersion: 0.262\n",
            "\n",
            "Proportional sampling from GP:\n",
            "\tTheoretical ME: 3.125\n",
            "\tEmpirical ME: 3.3754363888690375\n",
            "\n",
            "\tTheoretical Dispersion: 0.006\n",
            "\tEmpirical Dispersion: 0.262\n",
            "\n",
            "Proportional sampling from GP:\n",
            "\tTheoretical ME: 7.375\n",
            "\tEmpirical ME: 5.486997803520653\n",
            "\n",
            "\tTheoretical Dispersion: 0.009\n",
            "\tEmpirical Dispersion: 0.179\n"
          ],
          "name": "stdout"
        },
        {
          "output_type": "display_data",
          "data": {
            "image/png": "[encoded data removed]",
            "text/plain": [
              "<Figure size 432x288 with 1 Axes>"
            ]
          },
          "metadata": {
            "tags": [],
            "needs_background": "light"
          }
        }
      ]
    },
    {
      "cell_type": "markdown",
      "metadata": {
        "id": "Tj1RZypDzWs7"
      },
      "source": [
        "###Element number for general population = 500, mat_exp and disp are different between all strata:"
      ]
    },
    {
      "cell_type": "code",
      "metadata": {
        "id": "LoAuhv27BJxh",
        "colab": {
          "base_uri": "https://localhost:8080/",
          "height": 764
        },
        "outputId": "9d40e2ac-c675-4d9c-88e2-d758911f7dbf"
      },
      "source": [
        "show_results(experiment,500)"
      ],
      "execution_count": null,
      "outputs": [
        {
          "output_type": "stream",
          "text": [
            "Sample mean pointwise estimation\n",
            "\n",
            "Random sampling from GP:\n",
            "\tTheoretical ME: 3.3866260844197327\n",
            "\tEmpirical ME: 3.3892843902023904\n",
            "\n",
            "\tTheoretical Dispersion: 0.021\n",
            "\tEmpirical Dispersion: 0.277\n",
            "\n",
            "Proportional sampling from GP:\n",
            "\tTheoretical ME: 3.125\n",
            "\tEmpirical ME: 3.387514640265133\n",
            "\n",
            "\tTheoretical Dispersion: 0.006\n",
            "\tEmpirical Dispersion: 0.277\n",
            "\n",
            "Proportional sampling from GP:\n",
            "\tTheoretical ME: 7.375\n",
            "\tEmpirical ME: 5.484824563112942\n",
            "\n",
            "\tTheoretical Dispersion: 0.009\n",
            "\tEmpirical Dispersion: 0.194\n"
          ],
          "name": "stdout"
        },
        {
          "output_type": "display_data",
          "data": {
            "image/png": "[encoded data removed]",
            "text/plain": [
              "<Figure size 432x288 with 1 Axes>"
            ]
          },
          "metadata": {
            "tags": [],
            "needs_background": "light"
          }
        }
      ]
    },
    {
      "cell_type": "markdown",
      "metadata": {
        "id": "HN9Yvw20eAX5"
      },
      "source": [
        "Результаты экспериментов для случая разных матожиданий и дисперсий следующие:\n",
        "1.Оценка матожидания для оптимального семплирования стала намного больше. Предполагаю что это связано с тем, что на пропорции в методе оптимального семплирования влияет значение стандартного отклонения, что вызывает подобные результаты."
      ]
    },
    {
      "cell_type": "markdown",
      "metadata": {
        "id": "JISeS1kqDSAX"
      },
      "source": [
        "# Task 2\n",
        "\n",
        "Data is here https://drive.google.com/drive/folders/1zlvCNV6zNY9i3KIiFM6McByEgPBn_y2w?usp=sharing\n",
        "\n",
        "### Part 1\n",
        "Using [this criteria](https://support.minitab.com/en-us/minitab-express/1/help-and-how-to/modeling-statistics/regression/how-to/correlation/interpret-the-results/#:~:text=For%20the%20Pearson%20correlation%2C%20an,linear%20relationship%20between%20the%20variables.&text=If%20both%20variables%20tend%20to,represents%20the%20correlation%20slopes%20upward.), check whether there is a correlation between a brain size and intelligence for a dataset consisted both of men and women objects. Also check it for men and women subsamples separately.\n",
        "\n",
        "**Data is in `HW1_task2_brain_data.tsv`**\n",
        "\n",
        "### Part 2\n",
        "Using $Chi^2$ criteria check whether there is a statistical difference between men's and women's choice of auto.  (Features `Sex` и `PreferCar`)\n",
        "\n",
        "**Data is in `HW1_task2_car_prefs_data.tsv`**"
      ]
    },
    {
      "cell_type": "code",
      "metadata": {
        "id": "n5gwx4hnrEjT",
        "colab": {
          "base_uri": "https://localhost:8080/",
          "height": 34
        },
        "outputId": "e7371f3c-566e-44d9-814c-32e611f97f80"
      },
      "source": [
        "data = get_dataset('brain')\n",
        "len(data)"
      ],
      "execution_count": null,
      "outputs": [
        {
          "output_type": "execute_result",
          "data": {
            "text/plain": [
              "40"
            ]
          },
          "metadata": {
            "tags": []
          },
          "execution_count": 83
        }
      ]
    },
    {
      "cell_type": "code",
      "metadata": {
        "id": "DVbOWXcChLXG",
        "colab": {
          "base_uri": "https://localhost:8080/",
          "height": 204
        },
        "outputId": "14115ff7-cde7-455a-c84d-a38a3a79016f"
      },
      "source": [
        "data.head()"
      ],
      "execution_count": null,
      "outputs": [
        {
          "output_type": "execute_result",
          "data": {
            "text/html": [
              "<div>\n",
              "<style scoped>\n",
              "    .dataframe tbody tr th:only-of-type {\n",
              "        vertical-align: middle;\n",
              "    }\n",
              "\n",
              "    .dataframe tbody tr th {\n",
              "        vertical-align: top;\n",
              "    }\n",
              "\n",
              "    .dataframe thead th {\n",
              "        text-align: right;\n",
              "    }\n",
              "</style>\n",
              "<table border=\"1\" class=\"dataframe\">\n",
              "  <thead>\n",
              "    <tr style=\"text-align: right;\">\n",
              "      <th></th>\n",
              "      <th>Gender</th>\n",
              "      <th>FSIQ</th>\n",
              "      <th>VIQ</th>\n",
              "      <th>PIQ</th>\n",
              "      <th>Weight</th>\n",
              "      <th>Height</th>\n",
              "      <th>MRI_Count</th>\n",
              "    </tr>\n",
              "  </thead>\n",
              "  <tbody>\n",
              "    <tr>\n",
              "      <th>0</th>\n",
              "      <td>Female</td>\n",
              "      <td>133</td>\n",
              "      <td>132</td>\n",
              "      <td>124</td>\n",
              "      <td>118</td>\n",
              "      <td>64.5</td>\n",
              "      <td>816932</td>\n",
              "    </tr>\n",
              "    <tr>\n",
              "      <th>1</th>\n",
              "      <td>Male</td>\n",
              "      <td>140</td>\n",
              "      <td>150</td>\n",
              "      <td>124</td>\n",
              "      <td>�</td>\n",
              "      <td>72.5</td>\n",
              "      <td>1001121</td>\n",
              "    </tr>\n",
              "    <tr>\n",
              "      <th>2</th>\n",
              "      <td>Male</td>\n",
              "      <td>139</td>\n",
              "      <td>123</td>\n",
              "      <td>150</td>\n",
              "      <td>143</td>\n",
              "      <td>73.3</td>\n",
              "      <td>1038437</td>\n",
              "    </tr>\n",
              "    <tr>\n",
              "      <th>3</th>\n",
              "      <td>Male</td>\n",
              "      <td>133</td>\n",
              "      <td>129</td>\n",
              "      <td>128</td>\n",
              "      <td>172</td>\n",
              "      <td>68.8</td>\n",
              "      <td>965353</td>\n",
              "    </tr>\n",
              "    <tr>\n",
              "      <th>4</th>\n",
              "      <td>Female</td>\n",
              "      <td>137</td>\n",
              "      <td>132</td>\n",
              "      <td>134</td>\n",
              "      <td>147</td>\n",
              "      <td>65.0</td>\n",
              "      <td>951545</td>\n",
              "    </tr>\n",
              "  </tbody>\n",
              "</table>\n",
              "</div>"
            ],
            "text/plain": [
              "   Gender  FSIQ  VIQ  PIQ Weight Height  MRI_Count\n",
              "0  Female   133  132  124    118   64.5     816932\n",
              "1    Male   140  150  124      �   72.5    1001121\n",
              "2    Male   139  123  150    143   73.3    1038437\n",
              "3    Male   133  129  128    172   68.8     965353\n",
              "4  Female   137  132  134    147   65.0     951545"
            ]
          },
          "metadata": {
            "tags": []
          },
          "execution_count": 85
        }
      ]
    },
    {
      "cell_type": "code",
      "metadata": {
        "id": "wNfIZaXphF6O",
        "colab": {
          "base_uri": "https://localhost:8080/",
          "height": 297
        },
        "outputId": "38cf331b-dfef-425e-a998-41a340d552b6"
      },
      "source": [
        "data.describe()"
      ],
      "execution_count": null,
      "outputs": [
        {
          "output_type": "execute_result",
          "data": {
            "text/html": [
              "<div>\n",
              "<style scoped>\n",
              "    .dataframe tbody tr th:only-of-type {\n",
              "        vertical-align: middle;\n",
              "    }\n",
              "\n",
              "    .dataframe tbody tr th {\n",
              "        vertical-align: top;\n",
              "    }\n",
              "\n",
              "    .dataframe thead th {\n",
              "        text-align: right;\n",
              "    }\n",
              "</style>\n",
              "<table border=\"1\" class=\"dataframe\">\n",
              "  <thead>\n",
              "    <tr style=\"text-align: right;\">\n",
              "      <th></th>\n",
              "      <th>FSIQ</th>\n",
              "      <th>VIQ</th>\n",
              "      <th>PIQ</th>\n",
              "      <th>MRI_Count</th>\n",
              "    </tr>\n",
              "  </thead>\n",
              "  <tbody>\n",
              "    <tr>\n",
              "      <th>count</th>\n",
              "      <td>40.000000</td>\n",
              "      <td>40.000000</td>\n",
              "      <td>40.00000</td>\n",
              "      <td>4.000000e+01</td>\n",
              "    </tr>\n",
              "    <tr>\n",
              "      <th>mean</th>\n",
              "      <td>113.450000</td>\n",
              "      <td>112.350000</td>\n",
              "      <td>111.02500</td>\n",
              "      <td>9.087550e+05</td>\n",
              "    </tr>\n",
              "    <tr>\n",
              "      <th>std</th>\n",
              "      <td>24.082071</td>\n",
              "      <td>23.616107</td>\n",
              "      <td>22.47105</td>\n",
              "      <td>7.228205e+04</td>\n",
              "    </tr>\n",
              "    <tr>\n",
              "      <th>min</th>\n",
              "      <td>77.000000</td>\n",
              "      <td>71.000000</td>\n",
              "      <td>72.00000</td>\n",
              "      <td>7.906190e+05</td>\n",
              "    </tr>\n",
              "    <tr>\n",
              "      <th>25%</th>\n",
              "      <td>89.750000</td>\n",
              "      <td>90.000000</td>\n",
              "      <td>88.25000</td>\n",
              "      <td>8.559185e+05</td>\n",
              "    </tr>\n",
              "    <tr>\n",
              "      <th>50%</th>\n",
              "      <td>116.500000</td>\n",
              "      <td>113.000000</td>\n",
              "      <td>115.00000</td>\n",
              "      <td>9.053990e+05</td>\n",
              "    </tr>\n",
              "    <tr>\n",
              "      <th>75%</th>\n",
              "      <td>135.500000</td>\n",
              "      <td>129.750000</td>\n",
              "      <td>128.00000</td>\n",
              "      <td>9.500780e+05</td>\n",
              "    </tr>\n",
              "    <tr>\n",
              "      <th>max</th>\n",
              "      <td>144.000000</td>\n",
              "      <td>150.000000</td>\n",
              "      <td>150.00000</td>\n",
              "      <td>1.079549e+06</td>\n",
              "    </tr>\n",
              "  </tbody>\n",
              "</table>\n",
              "</div>"
            ],
            "text/plain": [
              "             FSIQ         VIQ        PIQ     MRI_Count\n",
              "count   40.000000   40.000000   40.00000  4.000000e+01\n",
              "mean   113.450000  112.350000  111.02500  9.087550e+05\n",
              "std     24.082071   23.616107   22.47105  7.228205e+04\n",
              "min     77.000000   71.000000   72.00000  7.906190e+05\n",
              "25%     89.750000   90.000000   88.25000  8.559185e+05\n",
              "50%    116.500000  113.000000  115.00000  9.053990e+05\n",
              "75%    135.500000  129.750000  128.00000  9.500780e+05\n",
              "max    144.000000  150.000000  150.00000  1.079549e+06"
            ]
          },
          "metadata": {
            "tags": []
          },
          "execution_count": 84
        }
      ]
    },
    {
      "cell_type": "code",
      "metadata": {
        "id": "i-JOfgYEirTA",
        "colab": {
          "base_uri": "https://localhost:8080/",
          "height": 68
        },
        "outputId": "b4827b48-69d3-4e62-d5a4-226d267c9184"
      },
      "source": [
        "data['Gender'].value_counts()"
      ],
      "execution_count": null,
      "outputs": [
        {
          "output_type": "execute_result",
          "data": {
            "text/plain": [
              "Male      20\n",
              "Female    20\n",
              "Name: Gender, dtype: int64"
            ]
          },
          "metadata": {
            "tags": []
          },
          "execution_count": 95
        }
      ]
    },
    {
      "cell_type": "markdown",
      "metadata": {
        "id": "qg6qdqP3gyVe"
      },
      "source": [
        "Всего имеется 40 наборов данных. Столбцы Weight и Height имеют пропущенные значения, но, к счастью, нам они не нужны. Остальные столбцы имеют приблизительно одинаковые распределения. Количество мужчин и женщин одинаковове."
      ]
    },
    {
      "cell_type": "code",
      "metadata": {
        "id": "kFl7ppfcgYrb",
        "colab": {
          "base_uri": "https://localhost:8080/",
          "height": 747
        },
        "outputId": "06ff0947-eeb6-449f-ed50-40c9d2e64b46"
      },
      "source": [
        "sns.pairplot(data, hue=\"Gender\", diag_kind='kde');"
      ],
      "execution_count": null,
      "outputs": [
        {
          "output_type": "display_data",
          "data": {
            "image/png": "[encoded data removed]",
            "text/plain": [
              "<Figure size 792.125x720 with 20 Axes>"
            ]
          },
          "metadata": {
            "tags": [],
            "needs_background": "light"
          }
        }
      ]
    },
    {
      "cell_type": "code",
      "metadata": {
        "id": "lFwpz3QfmPFW",
        "colab": {
          "base_uri": "https://localhost:8080/",
          "height": 290
        },
        "outputId": "68fa4108-1cca-453c-fd4e-5ef6b0359290"
      },
      "source": [
        "sns.boxplot(y='MRI_Count',x='Gender',data = data);"
      ],
      "execution_count": null,
      "outputs": [
        {
          "output_type": "display_data",
          "data": {
            "image/png": "[encoded data removed]",
            "text/plain": [
              "<Figure size 432x288 with 1 Axes>"
            ]
          },
          "metadata": {
            "tags": [],
            "needs_background": "light"
          }
        }
      ]
    },
    {
      "cell_type": "markdown",
      "metadata": {
        "id": "eVjYljdmjhKv"
      },
      "source": [
        "Из графиков можно сделать вывод что в целом данные для мужчин  женщин схожи, за исключением показателя MRI_count, на нем видно смещение показателей для мужчин."
      ]
    },
    {
      "cell_type": "code",
      "metadata": {
        "id": "nnkzgI57m-_y",
        "colab": {
          "base_uri": "https://localhost:8080/",
          "height": 290
        },
        "outputId": "d3dbac27-662b-41ca-aad5-98f3b835249c"
      },
      "source": [
        "sns.scatterplot(y='MRI_Count',x='FSIQ',data = data, hue='Gender');"
      ],
      "execution_count": null,
      "outputs": [
        {
          "output_type": "display_data",
          "data": {
            "image/png": "[encoded data removed]",
            "text/plain": [
              "<Figure size 432x288 with 1 Axes>"
            ]
          },
          "metadata": {
            "tags": [],
            "needs_background": "light"
          }
        }
      ]
    },
    {
      "cell_type": "code",
      "metadata": {
        "id": "56R-U68rDSAX",
        "colab": {
          "base_uri": "https://localhost:8080/",
          "height": 34
        },
        "outputId": "d4644744-ead4-44dc-e116-bdd0b04f7179"
      },
      "source": [
        "stat, pv = st.pearsonr(data['FSIQ'], data['MRI_Count'])\n",
        "print('Значение статистики = {}, p-value={}'.format(stat,pv))"
      ],
      "execution_count": null,
      "outputs": [
        {
          "output_type": "stream",
          "text": [
            "Значение статистики = 0.35764096936905665, p-value=0.02346891262690166\n"
          ],
          "name": "stdout"
        }
      ]
    },
    {
      "cell_type": "markdown",
      "metadata": {
        "id": "dBS7DcO-k0sX"
      },
      "source": [
        "Коэффициент корреляции Пирсона имеет значение - 0.35764096936905665, что означает что между переменными FSIQ и MRI_Count есть линейная зависимость и они сонаправлены. p-value < 0.05, значит коэффициент корреляции значим. \n",
        "Проверим теперь переменные на наличие монотонной связи с помощью критерия Спирмена."
      ]
    },
    {
      "cell_type": "code",
      "metadata": {
        "id": "9KLRlzR-zKPs",
        "colab": {
          "base_uri": "https://localhost:8080/",
          "height": 34
        },
        "outputId": "433311ca-d0c5-4981-b132-505f8cca56fa"
      },
      "source": [
        "st.spearmanr(data['FSIQ'], data['MRI_Count'])"
      ],
      "execution_count": null,
      "outputs": [
        {
          "output_type": "execute_result",
          "data": {
            "text/plain": [
              "SpearmanrResult(correlation=0.47214191583899207, pvalue=0.0020984777996441214)"
            ]
          },
          "metadata": {
            "tags": []
          },
          "execution_count": 106
        }
      ]
    },
    {
      "cell_type": "markdown",
      "metadata": {
        "id": "cA-cmXnJnKcj"
      },
      "source": [
        "Коэффициент корреляции Спирмена равен 0.47214191583899207, что говорит о том,что связь между переменными есть, но слабая.Также из коэффициента корреляции следует монотоная сонаправленность. p-value < 0.05, значит коэффициент корреляции значим\n",
        "\n"
      ]
    },
    {
      "cell_type": "code",
      "metadata": {
        "id": "SOOQzo5c2pUa"
      },
      "source": [
        "data_men = data[data['Gender']=='Male']\n",
        "data_women = data[data['Gender']=='Female']"
      ],
      "execution_count": null,
      "outputs": []
    },
    {
      "cell_type": "code",
      "metadata": {
        "id": "6a7_Jd3boWnF",
        "colab": {
          "base_uri": "https://localhost:8080/",
          "height": 290
        },
        "outputId": "5debeb04-1ba6-4414-e3d2-e9dd1c15caac"
      },
      "source": [
        "sns.scatterplot(y='MRI_Count',x='FSIQ',data = data_men);"
      ],
      "execution_count": null,
      "outputs": [
        {
          "output_type": "display_data",
          "data": {
            "image/png": "[encoded data removed]",
            "text/plain": [
              "<Figure size 432x288 with 1 Axes>"
            ]
          },
          "metadata": {
            "tags": [],
            "needs_background": "light"
          }
        }
      ]
    },
    {
      "cell_type": "code",
      "metadata": {
        "id": "WmY82hFs3ng3",
        "colab": {
          "base_uri": "https://localhost:8080/",
          "height": 51
        },
        "outputId": "2aeb7d31-1d5c-4371-fd53-c29f8d6ebcc7"
      },
      "source": [
        "print(st.pearsonr(data_men['FSIQ'], data_men['MRI_Count']))\n",
        "st.spearmanr(data_men['FSIQ'], data_men['MRI_Count'])"
      ],
      "execution_count": null,
      "outputs": [
        {
          "output_type": "stream",
          "text": [
            "(0.49836911041719256, 0.025319401349742674)\n"
          ],
          "name": "stdout"
        },
        {
          "output_type": "execute_result",
          "data": {
            "text/plain": [
              "SpearmanrResult(correlation=0.6224582598536048, pvalue=0.0033787319187759068)"
            ]
          },
          "metadata": {
            "tags": []
          },
          "execution_count": 43
        }
      ]
    },
    {
      "cell_type": "markdown",
      "metadata": {
        "id": "FgZWpzhhocRi"
      },
      "source": [
        "Результаты проверки наличия корреляции для данных о мужчинах следующие:\n",
        "1. Оба коэффициента положительные, значит есть положительная связь между переменными.\n",
        "2. Коэффициенты корреляции получились большими по сравнению с данными без фильтрации, значит связь сильнее.\n",
        "3. p-value в обоих случаях меньше 0.05, значит оба коэффициента значимы."
      ]
    },
    {
      "cell_type": "code",
      "metadata": {
        "id": "PKRfbklApFhU",
        "colab": {
          "base_uri": "https://localhost:8080/",
          "height": 290
        },
        "outputId": "3446bac6-759b-44a3-a72e-304b86633085"
      },
      "source": [
        "sns.scatterplot(y='MRI_Count',x='FSIQ',data = data_women);"
      ],
      "execution_count": null,
      "outputs": [
        {
          "output_type": "display_data",
          "data": {
            "image/png": "[encoded data removed]",
            "text/plain": [
              "<Figure size 432x288 with 1 Axes>"
            ]
          },
          "metadata": {
            "tags": [],
            "needs_background": "light"
          }
        }
      ]
    },
    {
      "cell_type": "code",
      "metadata": {
        "id": "VdMwQRaQ3sUT",
        "colab": {
          "base_uri": "https://localhost:8080/",
          "height": 51
        },
        "outputId": "600e0b94-6e3b-4dce-9b86-d222706fbd79"
      },
      "source": [
        "print(st.pearsonr(data_women['FSIQ'], data_women['MRI_Count']))\n",
        "st.spearmanr(data_women['FSIQ'], data_women['MRI_Count'])"
      ],
      "execution_count": null,
      "outputs": [
        {
          "output_type": "stream",
          "text": [
            "(0.3256967004963704, 0.1611157761890763)\n"
          ],
          "name": "stdout"
        },
        {
          "output_type": "execute_result",
          "data": {
            "text/plain": [
              "SpearmanrResult(correlation=0.2991718270724953, pvalue=0.20006072686083715)"
            ]
          },
          "metadata": {
            "tags": []
          },
          "execution_count": 45
        }
      ]
    },
    {
      "cell_type": "markdown",
      "metadata": {
        "id": "T2Nyg67JpS5h"
      },
      "source": [
        "Результаты проверки наличия корреляции для данных о женщинах следующие:\n",
        "\n",
        "1. Оба коэффициента положительные, значит есть положительная связь между переменными.\n",
        "2. Коэффициенты корреляции получились меньше по сравнению с данными без фильтрации, значит связь слабее.\n",
        "3. p-value в обоих случаях больше 0.05, значит оба коэффициента незначимы."
      ]
    },
    {
      "cell_type": "code",
      "metadata": {
        "id": "MmGLf_DH9NXY"
      },
      "source": [
        "data = get_dataset('car_perfs')\n",
        "data_crosstab = pd.crosstab(data['Sex'],  data['PreferCar'], margins = False) #Построение contingency table"
      ],
      "execution_count": null,
      "outputs": []
    },
    {
      "cell_type": "code",
      "metadata": {
        "id": "mPBJwHzWpxLE",
        "colab": {
          "base_uri": "https://localhost:8080/",
          "height": 204
        },
        "outputId": "f8dc5151-9fdd-4e41-9717-5607ce4f2b01"
      },
      "source": [
        "data.head()"
      ],
      "execution_count": null,
      "outputs": [
        {
          "output_type": "execute_result",
          "data": {
            "text/html": [
              "<div>\n",
              "<style scoped>\n",
              "    .dataframe tbody tr th:only-of-type {\n",
              "        vertical-align: middle;\n",
              "    }\n",
              "\n",
              "    .dataframe tbody tr th {\n",
              "        vertical-align: top;\n",
              "    }\n",
              "\n",
              "    .dataframe thead th {\n",
              "        text-align: right;\n",
              "    }\n",
              "</style>\n",
              "<table border=\"1\" class=\"dataframe\">\n",
              "  <thead>\n",
              "    <tr style=\"text-align: right;\">\n",
              "      <th></th>\n",
              "      <th>ID</th>\n",
              "      <th>Age</th>\n",
              "      <th>Sex</th>\n",
              "      <th>LicYr</th>\n",
              "      <th>LicMth</th>\n",
              "      <th>ActCar</th>\n",
              "      <th>Kids5</th>\n",
              "      <th>Kids6</th>\n",
              "      <th>PreferCar</th>\n",
              "      <th>Car15K</th>\n",
              "      <th>Reason</th>\n",
              "      <th>Cost</th>\n",
              "      <th>Reliable</th>\n",
              "      <th>Perform</th>\n",
              "      <th>Fuel</th>\n",
              "      <th>Safety</th>\n",
              "      <th>AC/PS</th>\n",
              "      <th>Park</th>\n",
              "      <th>Room</th>\n",
              "      <th>Doors</th>\n",
              "      <th>Prestige</th>\n",
              "      <th>Colour</th>\n",
              "    </tr>\n",
              "  </thead>\n",
              "  <tbody>\n",
              "    <tr>\n",
              "      <th>0</th>\n",
              "      <td>110</td>\n",
              "      <td>18</td>\n",
              "      <td>2</td>\n",
              "      <td>0</td>\n",
              "      <td>2</td>\n",
              "      <td>3</td>\n",
              "      <td>2</td>\n",
              "      <td>2</td>\n",
              "      <td>2</td>\n",
              "      <td>2</td>\n",
              "      <td>1</td>\n",
              "      <td>3</td>\n",
              "      <td>4</td>\n",
              "      <td>3</td>\n",
              "      <td>3</td>\n",
              "      <td>3</td>\n",
              "      <td>3</td>\n",
              "      <td>3</td>\n",
              "      <td>3</td>\n",
              "      <td>3</td>\n",
              "      <td>3</td>\n",
              "      <td>2</td>\n",
              "    </tr>\n",
              "    <tr>\n",
              "      <th>1</th>\n",
              "      <td>111</td>\n",
              "      <td>25</td>\n",
              "      <td>1</td>\n",
              "      <td>8</td>\n",
              "      <td>0</td>\n",
              "      <td>1</td>\n",
              "      <td>2</td>\n",
              "      <td>2</td>\n",
              "      <td>1</td>\n",
              "      <td>1</td>\n",
              "      <td>1</td>\n",
              "      <td>4</td>\n",
              "      <td>4</td>\n",
              "      <td>4</td>\n",
              "      <td>4</td>\n",
              "      <td>4</td>\n",
              "      <td>3</td>\n",
              "      <td>4</td>\n",
              "      <td>4</td>\n",
              "      <td>2</td>\n",
              "      <td>3</td>\n",
              "      <td>3</td>\n",
              "    </tr>\n",
              "    <tr>\n",
              "      <th>2</th>\n",
              "      <td>112</td>\n",
              "      <td>63</td>\n",
              "      <td>2</td>\n",
              "      <td>46</td>\n",
              "      <td>0</td>\n",
              "      <td>3</td>\n",
              "      <td>2</td>\n",
              "      <td>2</td>\n",
              "      <td>3</td>\n",
              "      <td>2</td>\n",
              "      <td>5</td>\n",
              "      <td>3</td>\n",
              "      <td>3</td>\n",
              "      <td>3</td>\n",
              "      <td>3</td>\n",
              "      <td>3</td>\n",
              "      <td>3</td>\n",
              "      <td>3</td>\n",
              "      <td>3</td>\n",
              "      <td>3</td>\n",
              "      <td>3</td>\n",
              "      <td>3</td>\n",
              "    </tr>\n",
              "    <tr>\n",
              "      <th>3</th>\n",
              "      <td>113</td>\n",
              "      <td>51</td>\n",
              "      <td>1</td>\n",
              "      <td>35</td>\n",
              "      <td>0</td>\n",
              "      <td>3</td>\n",
              "      <td>2</td>\n",
              "      <td>2</td>\n",
              "      <td>2</td>\n",
              "      <td>2</td>\n",
              "      <td>1</td>\n",
              "      <td>2</td>\n",
              "      <td>3</td>\n",
              "      <td>3</td>\n",
              "      <td>3</td>\n",
              "      <td>4</td>\n",
              "      <td>3</td>\n",
              "      <td>3</td>\n",
              "      <td>3</td>\n",
              "      <td>3</td>\n",
              "      <td>1</td>\n",
              "      <td>3</td>\n",
              "    </tr>\n",
              "    <tr>\n",
              "      <th>4</th>\n",
              "      <td>114</td>\n",
              "      <td>19</td>\n",
              "      <td>1</td>\n",
              "      <td>2</td>\n",
              "      <td>0</td>\n",
              "      <td>2</td>\n",
              "      <td>2</td>\n",
              "      <td>2</td>\n",
              "      <td>2</td>\n",
              "      <td>1</td>\n",
              "      <td>6</td>\n",
              "      <td>3</td>\n",
              "      <td>3</td>\n",
              "      <td>4</td>\n",
              "      <td>3</td>\n",
              "      <td>3</td>\n",
              "      <td>2</td>\n",
              "      <td>3</td>\n",
              "      <td>3</td>\n",
              "      <td>2</td>\n",
              "      <td>3</td>\n",
              "      <td>3</td>\n",
              "    </tr>\n",
              "  </tbody>\n",
              "</table>\n",
              "</div>"
            ],
            "text/plain": [
              "    ID  Age  Sex  LicYr  LicMth  ...  Park  Room  Doors  Prestige  Colour\n",
              "0  110   18    2      0       2  ...     3     3      3         3       2\n",
              "1  111   25    1      8       0  ...     4     4      2         3       3\n",
              "2  112   63    2     46       0  ...     3     3      3         3       3\n",
              "3  113   51    1     35       0  ...     3     3      3         1       3\n",
              "4  114   19    1      2       0  ...     3     3      2         3       3\n",
              "\n",
              "[5 rows x 22 columns]"
            ]
          },
          "metadata": {
            "tags": []
          },
          "execution_count": 131
        }
      ]
    },
    {
      "cell_type": "code",
      "metadata": {
        "id": "bQDC3L2XvtUN",
        "colab": {
          "base_uri": "https://localhost:8080/",
          "height": 296
        },
        "outputId": "78b00158-d7f1-4778-a9c0-f30796967a9b"
      },
      "source": [
        "data_2 = data[['Sex', 'PreferCar']]\n",
        " \n",
        "data_2 = data_2.groupby('Sex').PreferCar.value_counts().to_frame().unstack().PreferCar.reset_index(drop=True)\n",
        "x = np.arange(1,5)\n",
        "width = 0.35\n",
        "\n",
        "fig, ax = plt.subplots()\n",
        "\n",
        "rects1 = ax.bar(x - width/2, data_2.iloc[0], width, label='Sex 1')\n",
        "rects2 = ax.bar(x + width/2, data_2.iloc[1], width, label='Sex 2')\n",
        "\n",
        "ax.set_xticks(x)\n",
        "ax.set_xlabel('PreferCar')\n",
        "ax.legend()"
      ],
      "execution_count": null,
      "outputs": [
        {
          "output_type": "execute_result",
          "data": {
            "text/plain": [
              "<matplotlib.legend.Legend at 0x7f3dfbd87208>"
            ]
          },
          "metadata": {
            "tags": []
          },
          "execution_count": 132
        },
        {
          "output_type": "display_data",
          "data": {
            "image/png": "[encoded data removed]",
            "text/plain": [
              "<Figure size 432x288 with 1 Axes>"
            ]
          },
          "metadata": {
            "tags": [],
            "needs_background": "light"
          }
        }
      ]
    },
    {
      "cell_type": "markdown",
      "metadata": {
        "id": "YNCUAl9jwxX0"
      },
      "source": [
        "Из графика можно предположить, что машины типа \"1\" и \"2\", покупают больше  женщины, а машины типа \"3\", \"4\" больше покупают мужчины."
      ]
    },
    {
      "cell_type": "code",
      "metadata": {
        "id": "jC_2debOKmSl",
        "colab": {
          "base_uri": "https://localhost:8080/",
          "height": 34
        },
        "outputId": "82975fec-8152-4a3f-cc96-151aa5da6074"
      },
      "source": [
        "stat, p, dof, expected = st.chi2_contingency(data_crosstab)\n",
        "print('Значение статистики = {}, p-value={}'.format(stat,pv))"
      ],
      "execution_count": null,
      "outputs": [
        {
          "output_type": "stream",
          "text": [
            "Значение статистики = 17.507847808569526, p-value=0.02346891262690166\n"
          ],
          "name": "stdout"
        }
      ]
    },
    {
      "cell_type": "markdown",
      "metadata": {
        "id": "znhZu2AQsbKI"
      },
      "source": [
        "Нам необходимо проверить существование значимости между категориальными переменными. Для этой цели мы будем использовать критерий $\\chi^2$, который сравнивает наблюдаемые значения с ожидаемыми.\n",
        "\n",
        "В результате применения критерия получаем, что статистика равна - 17.507847808569526. Нулевая гипотеза гласит, что категоиальные переменные независимы.\n",
        "p-value < 0.05, значит мы отвергаем нулевую гипотезу и получаем что выбор машины зависит от пола."
      ]
    },
    {
      "cell_type": "markdown",
      "metadata": {
        "id": "w1zlsldkDSAZ"
      },
      "source": [
        "# Task 3\n",
        "\n",
        "You can find and download a dataset there:\n",
        "https://www.kaggle.com/russellyates88/suicide-rates-overview-1985-to-2016\n",
        "\n",
        "\n",
        "1) For any country (you are free to choose any of the presented) \n",
        " *  Visualize a feature **suicides_no** considering other features: **sex**, **age** (or **generation**) and year;\n",
        " *  Check whether there is statistical difference for suicide number between these groups: men / women. If it is found, can we claim that people of certain sex are more prone to suicides or do we need additional information?\n",
        "\n",
        "2) For 2016: divide countries into 3-4 groups according to the values of the **gdp_per_capita** feature (use statistical characteristics to determine how to divide the data into groups), check if the suicides / 100k pop indicator differs in these groups. Do not forget that for each country you have several values and they need to be aggregated or checked for each group separately."
      ]
    },
    {
      "cell_type": "markdown",
      "metadata": {
        "id": "WTH7P0dfcwwk"
      },
      "source": [
        "##Пункт 1"
      ]
    },
    {
      "cell_type": "code",
      "metadata": {
        "id": "Vf9JU8tjjG-B"
      },
      "source": [
        "data = get_dataset('master')\n",
        "data_1 = data[data['country']=='Israel']"
      ],
      "execution_count": null,
      "outputs": []
    },
    {
      "cell_type": "code",
      "metadata": {
        "id": "afErMB5daq9-",
        "colab": {
          "base_uri": "https://localhost:8080/",
          "height": 221
        },
        "outputId": "479ce8c9-6b3d-47f2-ae37-4d17ca0cf146"
      },
      "source": [
        "data.country.value_counts()"
      ],
      "execution_count": null,
      "outputs": [
        {
          "output_type": "execute_result",
          "data": {
            "text/plain": [
              "Iceland                   382\n",
              "Austria                   382\n",
              "Netherlands               382\n",
              "Mauritius                 382\n",
              "Italy                     372\n",
              "                         ... \n",
              "Bosnia and Herzegovina     24\n",
              "Dominica                   12\n",
              "Macau                      12\n",
              "Cabo Verde                 12\n",
              "Mongolia                   10\n",
              "Name: country, Length: 101, dtype: int64"
            ]
          },
          "metadata": {
            "tags": []
          },
          "execution_count": 60
        }
      ]
    },
    {
      "cell_type": "code",
      "metadata": {
        "id": "eQPJCevxvEXP",
        "colab": {
          "base_uri": "https://localhost:8080/",
          "height": 197
        },
        "outputId": "1d756f06-3354-43f8-ae86-5059835c9b94"
      },
      "source": [
        "data_1.head()"
      ],
      "execution_count": null,
      "outputs": [
        {
          "output_type": "execute_result",
          "data": {
            "text/html": [
              "<div>\n",
              "<style scoped>\n",
              "    .dataframe tbody tr th:only-of-type {\n",
              "        vertical-align: middle;\n",
              "    }\n",
              "\n",
              "    .dataframe tbody tr th {\n",
              "        vertical-align: top;\n",
              "    }\n",
              "\n",
              "    .dataframe thead th {\n",
              "        text-align: right;\n",
              "    }\n",
              "</style>\n",
              "<table border=\"1\" class=\"dataframe\">\n",
              "  <thead>\n",
              "    <tr style=\"text-align: right;\">\n",
              "      <th></th>\n",
              "      <th>country</th>\n",
              "      <th>year</th>\n",
              "      <th>sex</th>\n",
              "      <th>age</th>\n",
              "      <th>suicides_no</th>\n",
              "      <th>population</th>\n",
              "      <th>suicides/100k pop</th>\n",
              "      <th>country-year</th>\n",
              "      <th>HDI for year</th>\n",
              "      <th>gdp_for_year ($)</th>\n",
              "      <th>gdp_per_capita ($)</th>\n",
              "      <th>generation</th>\n",
              "    </tr>\n",
              "  </thead>\n",
              "  <tbody>\n",
              "    <tr>\n",
              "      <th>12416</th>\n",
              "      <td>Israel</td>\n",
              "      <td>1985</td>\n",
              "      <td>male</td>\n",
              "      <td>75+ years</td>\n",
              "      <td>24</td>\n",
              "      <td>66600</td>\n",
              "      <td>36.04</td>\n",
              "      <td>Israel1985</td>\n",
              "      <td>0.768</td>\n",
              "      <td>27,493,591,484</td>\n",
              "      <td>7325</td>\n",
              "      <td>G.I. Generation</td>\n",
              "    </tr>\n",
              "    <tr>\n",
              "      <th>12417</th>\n",
              "      <td>Israel</td>\n",
              "      <td>1985</td>\n",
              "      <td>male</td>\n",
              "      <td>55-74 years</td>\n",
              "      <td>48</td>\n",
              "      <td>249100</td>\n",
              "      <td>19.27</td>\n",
              "      <td>Israel1985</td>\n",
              "      <td>0.768</td>\n",
              "      <td>27,493,591,484</td>\n",
              "      <td>7325</td>\n",
              "      <td>G.I. Generation</td>\n",
              "    </tr>\n",
              "    <tr>\n",
              "      <th>12418</th>\n",
              "      <td>Israel</td>\n",
              "      <td>1985</td>\n",
              "      <td>female</td>\n",
              "      <td>75+ years</td>\n",
              "      <td>10</td>\n",
              "      <td>75500</td>\n",
              "      <td>13.25</td>\n",
              "      <td>Israel1985</td>\n",
              "      <td>0.768</td>\n",
              "      <td>27,493,591,484</td>\n",
              "      <td>7325</td>\n",
              "      <td>G.I. Generation</td>\n",
              "    </tr>\n",
              "    <tr>\n",
              "      <th>12419</th>\n",
              "      <td>Israel</td>\n",
              "      <td>1985</td>\n",
              "      <td>male</td>\n",
              "      <td>35-54 years</td>\n",
              "      <td>41</td>\n",
              "      <td>396400</td>\n",
              "      <td>10.34</td>\n",
              "      <td>Israel1985</td>\n",
              "      <td>0.768</td>\n",
              "      <td>27,493,591,484</td>\n",
              "      <td>7325</td>\n",
              "      <td>Silent</td>\n",
              "    </tr>\n",
              "    <tr>\n",
              "      <th>12420</th>\n",
              "      <td>Israel</td>\n",
              "      <td>1985</td>\n",
              "      <td>female</td>\n",
              "      <td>55-74 years</td>\n",
              "      <td>28</td>\n",
              "      <td>290900</td>\n",
              "      <td>9.63</td>\n",
              "      <td>Israel1985</td>\n",
              "      <td>0.768</td>\n",
              "      <td>27,493,591,484</td>\n",
              "      <td>7325</td>\n",
              "      <td>G.I. Generation</td>\n",
              "    </tr>\n",
              "  </tbody>\n",
              "</table>\n",
              "</div>"
            ],
            "text/plain": [
              "      country  year  ... gdp_per_capita ($)       generation\n",
              "12416  Israel  1985  ...               7325  G.I. Generation\n",
              "12417  Israel  1985  ...               7325  G.I. Generation\n",
              "12418  Israel  1985  ...               7325  G.I. Generation\n",
              "12419  Israel  1985  ...               7325           Silent\n",
              "12420  Israel  1985  ...               7325  G.I. Generation\n",
              "\n",
              "[5 rows x 12 columns]"
            ]
          },
          "metadata": {
            "tags": []
          },
          "execution_count": 61
        }
      ]
    },
    {
      "cell_type": "code",
      "metadata": {
        "id": "dfHori2VyajL"
      },
      "source": [
        "data_y = data_1.groupby('year',as_index=False).sum()"
      ],
      "execution_count": null,
      "outputs": []
    },
    {
      "cell_type": "code",
      "metadata": {
        "id": "HsJOATzPx-8X",
        "colab": {
          "base_uri": "https://localhost:8080/",
          "height": 443
        },
        "outputId": "d7fb1249-b8ae-48d6-e0dd-af061876e956"
      },
      "source": [
        "fig = plt.figure(num=None, figsize=(25, 6), dpi=80, facecolor='w', edgecolor='k')\n",
        "ax1 = fig.add_axes()\n",
        "sns.barplot(x='year', y='suicides_no', data=data_1, hue='sex', ax=ax1)"
      ],
      "execution_count": null,
      "outputs": [
        {
          "output_type": "execute_result",
          "data": {
            "text/plain": [
              "<matplotlib.axes._subplots.AxesSubplot at 0x7fc51aad8b38>"
            ]
          },
          "metadata": {
            "tags": []
          },
          "execution_count": 63
        },
        {
          "output_type": "display_data",
          "data": {
            "image/png": "[encoded data removed]",
            "text/plain": [
              "<Figure size 2000x480 with 1 Axes>"
            ]
          },
          "metadata": {
            "tags": []
          }
        }
      ]
    },
    {
      "cell_type": "code",
      "metadata": {
        "id": "T1zQ0cmbOrXL",
        "colab": {
          "base_uri": "https://localhost:8080/",
          "height": 685
        },
        "outputId": "35726b77-d870-4ff3-ca5e-d740bd2f54a2"
      },
      "source": [
        "fig = plt.figure(num=None, figsize=(15, 10), dpi=80, facecolor='w', edgecolor='k')\n",
        "ax1 = fig.add_axes()\n",
        "sns.boxplot(x='age', y='suicides_no', data=data_1, hue='sex',ax=ax1) "
      ],
      "execution_count": null,
      "outputs": [
        {
          "output_type": "execute_result",
          "data": {
            "text/plain": [
              "<matplotlib.axes._subplots.AxesSubplot at 0x7fc51992c4e0>"
            ]
          },
          "metadata": {
            "tags": []
          },
          "execution_count": 64
        },
        {
          "output_type": "display_data",
          "data": {
            "image/png": "[encoded data removed]",
            "text/plain": [
              "<Figure size 1200x800 with 1 Axes>"
            ]
          },
          "metadata": {
            "tags": []
          }
        }
      ]
    },
    {
      "cell_type": "markdown",
      "metadata": {
        "id": "Id2rg3-0D-Rw"
      },
      "source": [
        "Для проверки статистической разницы между группами мужчин и женщин сгруппируем данные по полу и количеству лет."
      ]
    },
    {
      "cell_type": "code",
      "metadata": {
        "id": "TeEr-j_I3Qlb"
      },
      "source": [
        "data_men = data_1[data_1.sex=='male'].groupby('year')['suicides_no'].sum()\n",
        "data_women = data_1[data_1.sex=='female'].groupby('year')['suicides_no'].sum()"
      ],
      "execution_count": null,
      "outputs": []
    },
    {
      "cell_type": "markdown",
      "metadata": {
        "id": "97ag0dVWFgdo"
      },
      "source": [
        "Воспользуемся либо тестом Стьюдента либо тестом Уэлча для проверки статистической разницы, тесты отличаются между собой тем, что один предназначен дл выборок с равными дисперсиями, а другой для выборок с разными. Но чтобы им воспользоваться, выборки должны быть нормально распределены и диспресии выборок должны быть приблизительно равны. Поэтому проверим сначало нормальность выборок."
      ]
    },
    {
      "cell_type": "code",
      "metadata": {
        "id": "u0ejtG9WY26T"
      },
      "source": [
        "def check_normality(data):\n",
        "  stat, p_d = st.shapiro(data_men)\n",
        "  alpha = 0.05\n",
        "  if p_d <= alpha:\n",
        "      print(f'(P-value == {p_d}) <= (alpha=={alpha})')\n",
        "      print('H0 о нормальности выборки отвергается.')\n",
        "  else:\n",
        "      print(f'(P-value == {p_d}) > (alpha=={alpha})')\n",
        "      print('Нет оснований для отвержения H0 о нормальности выборки.')"
      ],
      "execution_count": null,
      "outputs": []
    },
    {
      "cell_type": "code",
      "metadata": {
        "id": "BEMlpLtdMnI1",
        "colab": {
          "base_uri": "https://localhost:8080/",
          "height": 51
        },
        "outputId": "b74f26bd-85ad-4d03-df3e-c86b16b0c92a"
      },
      "source": [
        "check_normality(data_men)"
      ],
      "execution_count": null,
      "outputs": [
        {
          "output_type": "stream",
          "text": [
            "(P-value == 0.7081555128097534) > (alpha==0.05)\n",
            "Нет оснований для отвержения H0 о нормальности выборки.\n"
          ],
          "name": "stdout"
        }
      ]
    },
    {
      "cell_type": "code",
      "metadata": {
        "id": "1SPAf92lZHim",
        "colab": {
          "base_uri": "https://localhost:8080/",
          "height": 51
        },
        "outputId": "cc3689f4-ddb7-4742-a333-01e5d2be5d13"
      },
      "source": [
        "check_normality(data_women)"
      ],
      "execution_count": null,
      "outputs": [
        {
          "output_type": "stream",
          "text": [
            "(P-value == 0.7081555128097534) > (alpha==0.05)\n",
            "Нет оснований для отвержения H0 о нормальности выборки.\n"
          ],
          "name": "stdout"
        }
      ]
    },
    {
      "cell_type": "markdown",
      "metadata": {
        "id": "bA3cQk-_ZLdN"
      },
      "source": [
        "Отлично, нет оснований отвергнуть гипотезу о нормальности выборок, теперь проверим равенство дисперсий."
      ]
    },
    {
      "cell_type": "code",
      "metadata": {
        "id": "Py6oeTgyZXzR"
      },
      "source": [
        "def check_var_equal(data_1, data_2):\n",
        "  stat, p_d = st.levene(data_1,data_2)\n",
        "  alpha = 0.05\n",
        "  if p_d <= alpha:\n",
        "      print(f'(P-value == {p_d}) <= (alpha=={alpha})')\n",
        "      print('H0 о равенстве дисперсий отвергается.')\n",
        "  else:\n",
        "      print(f'(P-value == {p_d}) > (alpha=={alpha})')\n",
        "      print('Нет оснований для отвержения H0 о равенстве дисперсий.')"
      ],
      "execution_count": null,
      "outputs": []
    },
    {
      "cell_type": "code",
      "metadata": {
        "id": "sMnRzw2HZtmn",
        "colab": {
          "base_uri": "https://localhost:8080/",
          "height": 51
        },
        "outputId": "210f4e4e-9288-476d-f32c-af2f3da1e422"
      },
      "source": [
        "check_var_equal(data_women, data_men)"
      ],
      "execution_count": null,
      "outputs": [
        {
          "output_type": "stream",
          "text": [
            "(P-value == 7.725558960813497e-05) <= (alpha==0.05)\n",
            "H0 о равенстве дисперсий отвергается.\n"
          ],
          "name": "stdout"
        }
      ]
    },
    {
      "cell_type": "markdown",
      "metadata": {
        "id": "kDmkjjIrcAmF"
      },
      "source": [
        "Диспресии не равны, значит используем критерий Уэлча."
      ]
    },
    {
      "cell_type": "code",
      "metadata": {
        "id": "WPxFQqoQ7g5y",
        "colab": {
          "base_uri": "https://localhost:8080/",
          "height": 51
        },
        "outputId": "da97f34d-d9c6-4300-9441-c6213387b98b"
      },
      "source": [
        "stat, p = st.ttest_ind(data_women, data_men, equal_var=False)\n",
        "\n",
        "if p <= alpha:\n",
        "    print(f'(P-value == {p}) <= (alpha=={alpha})')\n",
        "    print('H0 о равенстве средних отвергается.')\n",
        "else:\n",
        "    print(f'(P-value == {p}) > (alpha=={alpha})')\n",
        "    print('Нет оснований для отвержения H0 о равенстве средних.') "
      ],
      "execution_count": null,
      "outputs": [
        {
          "output_type": "stream",
          "text": [
            "(P-value == 1.078821106234556e-20) <= (alpha==0.05)\n",
            "H0 о равенстве средних отвергается.\n"
          ],
          "name": "stdout"
        }
      ]
    },
    {
      "cell_type": "markdown",
      "metadata": {
        "id": "yBfiLbji8xJm"
      },
      "source": [
        "p-value < 0.05, значит гипотеза об однородности выборки отвергается, значит статистическая разница в количестве самоубийств между мужчинами и женщинами существует В ИЗРАИЛЕ. И это совершенно не гарантирует нам наличия таких же результатов по всему миру. Чтобы это выяснить необходимо провести исследования данных по всем странам."
      ]
    },
    {
      "cell_type": "markdown",
      "metadata": {
        "id": "J4y46Bk4c3oS"
      },
      "source": [
        "#Пункт 2"
      ]
    },
    {
      "cell_type": "markdown",
      "metadata": {
        "id": "LvaeGBRCdKSh"
      },
      "source": [
        "Выберем данные для 2016 года."
      ]
    },
    {
      "cell_type": "code",
      "metadata": {
        "id": "EKS2-NfYc5aq"
      },
      "source": [
        "suicides_2016 = data[data.year==2016]"
      ],
      "execution_count": null,
      "outputs": []
    },
    {
      "cell_type": "markdown",
      "metadata": {
        "id": "tO0Wl6ald0kJ"
      },
      "source": [
        "Рассмотрим дисперсии признака в зависимости от стран"
      ]
    },
    {
      "cell_type": "code",
      "metadata": {
        "id": "wIzusmeTdWjX",
        "colab": {
          "base_uri": "https://localhost:8080/",
          "height": 589
        },
        "outputId": "a2f1b273-d99a-4958-f028-a661dd9bee7f"
      },
      "source": [
        "suicides_2016.groupby('country')['gdp_per_capita ($)'].std()"
      ],
      "execution_count": null,
      "outputs": [
        {
          "output_type": "stream",
          "text": [
            "/usr/local/lib/python3.6/dist-packages/ipykernel_launcher.py:1: FutureWarning: Indexing with multiple keys (implicitly converted to a tuple of keys) will be deprecated, use a list instead.\n",
            "  \"\"\"Entry point for launching an IPython kernel.\n"
          ],
          "name": "stderr"
        },
        {
          "output_type": "execute_result",
          "data": {
            "text/html": [
              "<div>\n",
              "<style scoped>\n",
              "    .dataframe tbody tr th:only-of-type {\n",
              "        vertical-align: middle;\n",
              "    }\n",
              "\n",
              "    .dataframe tbody tr th {\n",
              "        vertical-align: top;\n",
              "    }\n",
              "\n",
              "    .dataframe thead th {\n",
              "        text-align: right;\n",
              "    }\n",
              "</style>\n",
              "<table border=\"1\" class=\"dataframe\">\n",
              "  <thead>\n",
              "    <tr style=\"text-align: right;\">\n",
              "      <th></th>\n",
              "      <th>suicides/100k pop</th>\n",
              "      <th>gdp_per_capita ($)</th>\n",
              "    </tr>\n",
              "    <tr>\n",
              "      <th>country</th>\n",
              "      <th></th>\n",
              "      <th></th>\n",
              "    </tr>\n",
              "  </thead>\n",
              "  <tbody>\n",
              "    <tr>\n",
              "      <th>Armenia</th>\n",
              "      <td>5.717786</td>\n",
              "      <td>0.0</td>\n",
              "    </tr>\n",
              "    <tr>\n",
              "      <th>Austria</th>\n",
              "      <td>19.560423</td>\n",
              "      <td>0.0</td>\n",
              "    </tr>\n",
              "    <tr>\n",
              "      <th>Croatia</th>\n",
              "      <td>22.474713</td>\n",
              "      <td>0.0</td>\n",
              "    </tr>\n",
              "    <tr>\n",
              "      <th>Cyprus</th>\n",
              "      <td>4.754007</td>\n",
              "      <td>0.0</td>\n",
              "    </tr>\n",
              "    <tr>\n",
              "      <th>Czech Republic</th>\n",
              "      <td>14.856132</td>\n",
              "      <td>0.0</td>\n",
              "    </tr>\n",
              "    <tr>\n",
              "      <th>Grenada</th>\n",
              "      <td>0.000000</td>\n",
              "      <td>0.0</td>\n",
              "    </tr>\n",
              "    <tr>\n",
              "      <th>Hungary</th>\n",
              "      <td>25.772490</td>\n",
              "      <td>0.0</td>\n",
              "    </tr>\n",
              "    <tr>\n",
              "      <th>Iceland</th>\n",
              "      <td>12.938891</td>\n",
              "      <td>0.0</td>\n",
              "    </tr>\n",
              "    <tr>\n",
              "      <th>Lithuania</th>\n",
              "      <td>34.437834</td>\n",
              "      <td>0.0</td>\n",
              "    </tr>\n",
              "    <tr>\n",
              "      <th>Mauritius</th>\n",
              "      <td>8.187998</td>\n",
              "      <td>0.0</td>\n",
              "    </tr>\n",
              "    <tr>\n",
              "      <th>Mongolia</th>\n",
              "      <td>15.056374</td>\n",
              "      <td>0.0</td>\n",
              "    </tr>\n",
              "    <tr>\n",
              "      <th>Netherlands</th>\n",
              "      <td>6.873501</td>\n",
              "      <td>0.0</td>\n",
              "    </tr>\n",
              "    <tr>\n",
              "      <th>Qatar</th>\n",
              "      <td>1.719031</td>\n",
              "      <td>0.0</td>\n",
              "    </tr>\n",
              "    <tr>\n",
              "      <th>Romania</th>\n",
              "      <td>11.066325</td>\n",
              "      <td>0.0</td>\n",
              "    </tr>\n",
              "    <tr>\n",
              "      <th>Sweden</th>\n",
              "      <td>7.250732</td>\n",
              "      <td>0.0</td>\n",
              "    </tr>\n",
              "    <tr>\n",
              "      <th>Thailand</th>\n",
              "      <td>5.401711</td>\n",
              "      <td>0.0</td>\n",
              "    </tr>\n",
              "  </tbody>\n",
              "</table>\n",
              "</div>"
            ],
            "text/plain": [
              "                suicides/100k pop  gdp_per_capita ($)\n",
              "country                                              \n",
              "Armenia                  5.717786                 0.0\n",
              "Austria                 19.560423                 0.0\n",
              "Croatia                 22.474713                 0.0\n",
              "Cyprus                   4.754007                 0.0\n",
              "Czech Republic          14.856132                 0.0\n",
              "Grenada                  0.000000                 0.0\n",
              "Hungary                 25.772490                 0.0\n",
              "Iceland                 12.938891                 0.0\n",
              "Lithuania               34.437834                 0.0\n",
              "Mauritius                8.187998                 0.0\n",
              "Mongolia                15.056374                 0.0\n",
              "Netherlands              6.873501                 0.0\n",
              "Qatar                    1.719031                 0.0\n",
              "Romania                 11.066325                 0.0\n",
              "Sweden                   7.250732                 0.0\n",
              "Thailand                 5.401711                 0.0"
            ]
          },
          "metadata": {
            "tags": []
          },
          "execution_count": 74
        }
      ]
    },
    {
      "cell_type": "markdown",
      "metadata": {
        "id": "Um9L874menq9"
      },
      "source": [
        "Дисперсии ВВП на душу населения равны 0, значит у каждой страны все значения этого признака одинаковы. Посмотрим на них"
      ]
    },
    {
      "cell_type": "code",
      "metadata": {
        "id": "Rya4vs5Bdx5i",
        "colab": {
          "base_uri": "https://localhost:8080/",
          "height": 324
        },
        "outputId": "88b2cfa8-7989-4606-de2f-e98722f45457"
      },
      "source": [
        "suicides_2016.groupby('country')['gdp_per_capita ($)'].mean().sort_values(ascending=False)"
      ],
      "execution_count": null,
      "outputs": [
        {
          "output_type": "execute_result",
          "data": {
            "text/plain": [
              "country\n",
              "Iceland           64708\n",
              "Qatar             62484\n",
              "Sweden            55594\n",
              "Netherlands       48108\n",
              "Austria           46976\n",
              "Cyprus            25098\n",
              "Czech Republic    19505\n",
              "Lithuania         15742\n",
              "Hungary           13448\n",
              "Croatia           12905\n",
              "Grenada           10838\n",
              "Mauritius         10570\n",
              "Romania           10020\n",
              "Thailand           6713\n",
              "Mongolia           4145\n",
              "Armenia            3788\n",
              "Name: gdp_per_capita ($), dtype: int64"
            ]
          },
          "metadata": {
            "tags": []
          },
          "execution_count": 78
        }
      ]
    },
    {
      "cell_type": "markdown",
      "metadata": {
        "id": "30WKjqAxfBwP"
      },
      "source": [
        "Можно разбить все страны на группы согласно квартилям, тогда получим 4 группы: низкий уровень, ниже/выше среднего, высокий."
      ]
    },
    {
      "cell_type": "code",
      "metadata": {
        "id": "WYW5RTX4eZRo"
      },
      "source": [
        "quartiles_series = pd.qcut(suicides_2016['gdp_per_capita ($)'], [0, .25, .5, .75, 1.])"
      ],
      "execution_count": null,
      "outputs": []
    },
    {
      "cell_type": "code",
      "metadata": {
        "id": "ChuyFNGtgxIA"
      },
      "source": [
        "uniq_quartiles = set(quartiles_series)"
      ],
      "execution_count": null,
      "outputs": []
    },
    {
      "cell_type": "code",
      "metadata": {
        "id": "uxUsKabOf1Tp",
        "colab": {
          "base_uri": "https://localhost:8080/",
          "height": 119
        },
        "outputId": "ae0a0b7f-d06e-4884-ca21-7740bb4394f6"
      },
      "source": [
        "#поставим каждой записи категориальную метку, соответсвующую интервалу\n",
        "suicides_2016['quartiles'] = quartiles_series.replace({q : i for i, q in enumerate(sorted(uniq_quartiles))})"
      ],
      "execution_count": null,
      "outputs": [
        {
          "output_type": "stream",
          "text": [
            "/usr/local/lib/python3.6/dist-packages/ipykernel_launcher.py:2: SettingWithCopyWarning: \n",
            "A value is trying to be set on a copy of a slice from a DataFrame.\n",
            "Try using .loc[row_indexer,col_indexer] = value instead\n",
            "\n",
            "See the caveats in the documentation: https://pandas.pydata.org/pandas-docs/stable/user_guide/indexing.html#returning-a-view-versus-a-copy\n",
            "  \n"
          ],
          "name": "stderr"
        }
      ]
    },
    {
      "cell_type": "markdown",
      "metadata": {
        "id": "Rs7vYzNJk0fx"
      },
      "source": [
        "Получим следующее разбиение по группам"
      ]
    },
    {
      "cell_type": "code",
      "metadata": {
        "id": "8IEx0cdUkNFe",
        "colab": {
          "base_uri": "https://localhost:8080/",
          "height": 555
        },
        "outputId": "23bb7424-eae3-484d-8589-32a913f6ee00"
      },
      "source": [
        "suicides_2016.groupby(['quartiles','country']).mean()"
      ],
      "execution_count": null,
      "outputs": [
        {
          "output_type": "execute_result",
          "data": {
            "text/html": [
              "<div>\n",
              "<style scoped>\n",
              "    .dataframe tbody tr th:only-of-type {\n",
              "        vertical-align: middle;\n",
              "    }\n",
              "\n",
              "    .dataframe tbody tr th {\n",
              "        vertical-align: top;\n",
              "    }\n",
              "\n",
              "    .dataframe thead th {\n",
              "        text-align: right;\n",
              "    }\n",
              "</style>\n",
              "<table border=\"1\" class=\"dataframe\">\n",
              "  <thead>\n",
              "    <tr style=\"text-align: right;\">\n",
              "      <th></th>\n",
              "      <th></th>\n",
              "      <th>year</th>\n",
              "      <th>suicides_no</th>\n",
              "      <th>population</th>\n",
              "      <th>suicides/100k pop</th>\n",
              "      <th>HDI for year</th>\n",
              "      <th>gdp_per_capita ($)</th>\n",
              "      <th>quantiles</th>\n",
              "    </tr>\n",
              "    <tr>\n",
              "      <th>quartiles</th>\n",
              "      <th>country</th>\n",
              "      <th></th>\n",
              "      <th></th>\n",
              "      <th></th>\n",
              "      <th></th>\n",
              "      <th></th>\n",
              "      <th></th>\n",
              "      <th></th>\n",
              "    </tr>\n",
              "  </thead>\n",
              "  <tbody>\n",
              "    <tr>\n",
              "      <th rowspan=\"4\" valign=\"top\">0</th>\n",
              "      <th>Armenia</th>\n",
              "      <td>2016.0</td>\n",
              "      <td>6.7</td>\n",
              "      <td>240003.3</td>\n",
              "      <td>4.056</td>\n",
              "      <td>NaN</td>\n",
              "      <td>3788.0</td>\n",
              "      <td>0.0</td>\n",
              "    </tr>\n",
              "    <tr>\n",
              "      <th>Mongolia</th>\n",
              "      <td>2016.0</td>\n",
              "      <td>42.3</td>\n",
              "      <td>216758.9</td>\n",
              "      <td>18.439</td>\n",
              "      <td>NaN</td>\n",
              "      <td>4145.0</td>\n",
              "      <td>0.0</td>\n",
              "    </tr>\n",
              "    <tr>\n",
              "      <th>Romania</th>\n",
              "      <td>2016.0</td>\n",
              "      <td>195.3</td>\n",
              "      <td>1664490.5</td>\n",
              "      <td>11.633</td>\n",
              "      <td>NaN</td>\n",
              "      <td>10020.0</td>\n",
              "      <td>0.0</td>\n",
              "    </tr>\n",
              "    <tr>\n",
              "      <th>Thailand</th>\n",
              "      <td>2016.0</td>\n",
              "      <td>411.7</td>\n",
              "      <td>5344200.1</td>\n",
              "      <td>7.732</td>\n",
              "      <td>NaN</td>\n",
              "      <td>6713.0</td>\n",
              "      <td>0.0</td>\n",
              "    </tr>\n",
              "    <tr>\n",
              "      <th rowspan=\"4\" valign=\"top\">1</th>\n",
              "      <th>Croatia</th>\n",
              "      <td>2016.0</td>\n",
              "      <td>68.3</td>\n",
              "      <td>356704.3</td>\n",
              "      <td>21.356</td>\n",
              "      <td>NaN</td>\n",
              "      <td>12905.0</td>\n",
              "      <td>1.0</td>\n",
              "    </tr>\n",
              "    <tr>\n",
              "      <th>Grenada</th>\n",
              "      <td>2016.0</td>\n",
              "      <td>0.0</td>\n",
              "      <td>7901.2</td>\n",
              "      <td>0.000</td>\n",
              "      <td>NaN</td>\n",
              "      <td>10838.0</td>\n",
              "      <td>1.0</td>\n",
              "    </tr>\n",
              "    <tr>\n",
              "      <th>Hungary</th>\n",
              "      <td>2016.0</td>\n",
              "      <td>176.1</td>\n",
              "      <td>839037.0</td>\n",
              "      <td>24.134</td>\n",
              "      <td>NaN</td>\n",
              "      <td>13448.0</td>\n",
              "      <td>1.0</td>\n",
              "    </tr>\n",
              "    <tr>\n",
              "      <th>Mauritius</th>\n",
              "      <td>2016.0</td>\n",
              "      <td>9.8</td>\n",
              "      <td>99243.2</td>\n",
              "      <td>9.930</td>\n",
              "      <td>NaN</td>\n",
              "      <td>10570.0</td>\n",
              "      <td>1.0</td>\n",
              "    </tr>\n",
              "    <tr>\n",
              "      <th rowspan=\"4\" valign=\"top\">2</th>\n",
              "      <th>Austria</th>\n",
              "      <td>2016.0</td>\n",
              "      <td>120.1</td>\n",
              "      <td>748462.9</td>\n",
              "      <td>18.323</td>\n",
              "      <td>NaN</td>\n",
              "      <td>46976.0</td>\n",
              "      <td>2.0</td>\n",
              "    </tr>\n",
              "    <tr>\n",
              "      <th>Cyprus</th>\n",
              "      <td>2016.0</td>\n",
              "      <td>3.6</td>\n",
              "      <td>71134.4</td>\n",
              "      <td>4.715</td>\n",
              "      <td>NaN</td>\n",
              "      <td>25098.0</td>\n",
              "      <td>2.0</td>\n",
              "    </tr>\n",
              "    <tr>\n",
              "      <th>Czech Republic</th>\n",
              "      <td>2016.0</td>\n",
              "      <td>131.8</td>\n",
              "      <td>892994.2</td>\n",
              "      <td>16.176</td>\n",
              "      <td>NaN</td>\n",
              "      <td>19505.0</td>\n",
              "      <td>2.0</td>\n",
              "    </tr>\n",
              "    <tr>\n",
              "      <th>Lithuania</th>\n",
              "      <td>2016.0</td>\n",
              "      <td>82.2</td>\n",
              "      <td>244529.6</td>\n",
              "      <td>36.172</td>\n",
              "      <td>NaN</td>\n",
              "      <td>15742.0</td>\n",
              "      <td>2.0</td>\n",
              "    </tr>\n",
              "    <tr>\n",
              "      <th rowspan=\"4\" valign=\"top\">3</th>\n",
              "      <th>Iceland</th>\n",
              "      <td>2016.0</td>\n",
              "      <td>4.0</td>\n",
              "      <td>26877.3</td>\n",
              "      <td>13.807</td>\n",
              "      <td>NaN</td>\n",
              "      <td>64708.0</td>\n",
              "      <td>3.0</td>\n",
              "    </tr>\n",
              "    <tr>\n",
              "      <th>Netherlands</th>\n",
              "      <td>2016.0</td>\n",
              "      <td>188.6</td>\n",
              "      <td>1423955.4</td>\n",
              "      <td>12.739</td>\n",
              "      <td>NaN</td>\n",
              "      <td>48108.0</td>\n",
              "      <td>3.0</td>\n",
              "    </tr>\n",
              "    <tr>\n",
              "      <th>Qatar</th>\n",
              "      <td>2016.0</td>\n",
              "      <td>6.8</td>\n",
              "      <td>221312.1</td>\n",
              "      <td>1.643</td>\n",
              "      <td>NaN</td>\n",
              "      <td>62484.0</td>\n",
              "      <td>3.0</td>\n",
              "    </tr>\n",
              "    <tr>\n",
              "      <th>Sweden</th>\n",
              "      <td>2016.0</td>\n",
              "      <td>113.0</td>\n",
              "      <td>812585.2</td>\n",
              "      <td>13.884</td>\n",
              "      <td>NaN</td>\n",
              "      <td>55594.0</td>\n",
              "      <td>3.0</td>\n",
              "    </tr>\n",
              "  </tbody>\n",
              "</table>\n",
              "</div>"
            ],
            "text/plain": [
              "                            year  suicides_no  ...  gdp_per_capita ($)  quantiles\n",
              "quartiles country                              ...                               \n",
              "0         Armenia         2016.0          6.7  ...              3788.0        0.0\n",
              "          Mongolia        2016.0         42.3  ...              4145.0        0.0\n",
              "          Romania         2016.0        195.3  ...             10020.0        0.0\n",
              "          Thailand        2016.0        411.7  ...              6713.0        0.0\n",
              "1         Croatia         2016.0         68.3  ...             12905.0        1.0\n",
              "          Grenada         2016.0          0.0  ...             10838.0        1.0\n",
              "          Hungary         2016.0        176.1  ...             13448.0        1.0\n",
              "          Mauritius       2016.0          9.8  ...             10570.0        1.0\n",
              "2         Austria         2016.0        120.1  ...             46976.0        2.0\n",
              "          Cyprus          2016.0          3.6  ...             25098.0        2.0\n",
              "          Czech Republic  2016.0        131.8  ...             19505.0        2.0\n",
              "          Lithuania       2016.0         82.2  ...             15742.0        2.0\n",
              "3         Iceland         2016.0          4.0  ...             64708.0        3.0\n",
              "          Netherlands     2016.0        188.6  ...             48108.0        3.0\n",
              "          Qatar           2016.0          6.8  ...             62484.0        3.0\n",
              "          Sweden          2016.0        113.0  ...             55594.0        3.0\n",
              "\n",
              "[16 rows x 7 columns]"
            ]
          },
          "metadata": {
            "tags": []
          },
          "execution_count": 106
        }
      ]
    },
    {
      "cell_type": "code",
      "metadata": {
        "id": "TVsrlfrjkyjA"
      },
      "source": [
        "groups = [suicides_2016[suicides_2016.quartiles == i] for i in range(len(quantiles_series))]"
      ],
      "execution_count": null,
      "outputs": []
    },
    {
      "cell_type": "markdown",
      "metadata": {
        "id": "wLA_O-6HleKH"
      },
      "source": [
        "Сагрегируем данные по признаку количества сабоубийств на 100 тысяч."
      ]
    },
    {
      "cell_type": "code",
      "metadata": {
        "id": "ZmRxC_pGhKHN"
      },
      "source": [
        "groups_suid100 = [groups[i].groupby('country')['suicides/100k pop'].mean() for i in range(len(uniq_quartiles))]"
      ],
      "execution_count": null,
      "outputs": []
    },
    {
      "cell_type": "code",
      "metadata": {
        "id": "hqQQTSi9lpz8",
        "colab": {
          "base_uri": "https://localhost:8080/",
          "height": 375
        },
        "outputId": "202a78aa-7bd3-478d-d163-cd763bee2ced"
      },
      "source": [
        "groups_suid100"
      ],
      "execution_count": null,
      "outputs": [
        {
          "output_type": "execute_result",
          "data": {
            "text/plain": [
              "[country\n",
              " Armenia      4.056\n",
              " Mongolia    18.439\n",
              " Romania     11.633\n",
              " Thailand     7.732\n",
              " Name: suicides/100k pop, dtype: float64, country\n",
              " Croatia      21.356\n",
              " Grenada       0.000\n",
              " Hungary      24.134\n",
              " Mauritius     9.930\n",
              " Name: suicides/100k pop, dtype: float64, country\n",
              " Austria           18.323\n",
              " Cyprus             4.715\n",
              " Czech Republic    16.176\n",
              " Lithuania         36.172\n",
              " Name: suicides/100k pop, dtype: float64, country\n",
              " Iceland        13.807\n",
              " Netherlands    12.739\n",
              " Qatar           1.643\n",
              " Sweden         13.884\n",
              " Name: suicides/100k pop, dtype: float64]"
            ]
          },
          "metadata": {
            "tags": []
          },
          "execution_count": 107
        }
      ]
    },
    {
      "cell_type": "code",
      "metadata": {
        "id": "flHqUFZZgRdu",
        "colab": {
          "base_uri": "https://localhost:8080/",
          "height": 51
        },
        "outputId": "cc2bea6b-17a3-4367-9e56-4d6718498e87"
      },
      "source": [
        "alpha = 0.05\n",
        "\n",
        "# Сравним дисперсии выборок:\n",
        "stat, p_g = st.levene(*groups_suid100)\n",
        "\n",
        "if p_g <= alpha:\n",
        "    print(f'(P-value == {p_g}) <= (alpha=={alpha})')\n",
        "    print('H0 о равенстве дисперсий отвергается.')\n",
        "else:\n",
        "    print(f'(P-value == {p_g}) > (alpha=={alpha})')\n",
        "    print('Нет оснований для отвержения H0 о равенстве дисперсий.')"
      ],
      "execution_count": null,
      "outputs": [
        {
          "output_type": "stream",
          "text": [
            "(P-value == 0.4866873037424947) > (alpha==0.05)\n",
            "Нет оснований для отвержения H0 о равенстве дисперсий.\n"
          ],
          "name": "stdout"
        }
      ]
    },
    {
      "cell_type": "markdown",
      "metadata": {
        "id": "Z1aYEf3umdLc"
      },
      "source": [
        "Проверим гипотезу о равенстве средних значений в группах с помощью теста ANOVA."
      ]
    },
    {
      "cell_type": "code",
      "metadata": {
        "id": "n8e6xwHwgR1_",
        "colab": {
          "base_uri": "https://localhost:8080/",
          "height": 51
        },
        "outputId": "a34b3671-b35f-42e8-9665-6d437461cc78"
      },
      "source": [
        "stat, p_d = st.f_oneway(*groups_suid100)\n",
        "if p_d <= alpha:\n",
        "    print(f'(P-value == {p_d}) <= (alpha=={alpha})')\n",
        "    print('H0 о равенстве дисперсий отвергается.')\n",
        "else:\n",
        "    print(f'(P-value == {p_d}) > (alpha=={alpha})')\n",
        "    print('Нет оснований для отвержения H0 о равенстве средних.')"
      ],
      "execution_count": null,
      "outputs": [
        {
          "output_type": "stream",
          "text": [
            "(P-value == 0.5792499747750927) > (alpha==0.05)\n",
            "Нет оснований для отвержения H0 о равенстве средних.\n"
          ],
          "name": "stdout"
        }
      ]
    },
    {
      "cell_type": "markdown",
      "metadata": {
        "id": "ekUJMkJYnIez"
      },
      "source": [
        "Получаем, что проверка гипотезы о равенстве средних между группами стран, сформированных согласно квартилям признака ВВП на душу населения, не выявила статистических различий."
      ]
    },
    {
      "cell_type": "code",
      "metadata": {
        "id": "KpMtjgLpnZC6"
      },
      "source": [
        ""
      ],
      "execution_count": null,
      "outputs": []
    }
  ]
}